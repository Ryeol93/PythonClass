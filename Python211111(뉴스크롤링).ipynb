{
  "nbformat": 4,
  "nbformat_minor": 0,
  "metadata": {
    "colab": {
      "name": "Python211111(뉴스크롤링).ipynb",
      "provenance": [],
      "authorship_tag": "ABX9TyMRNX9k1XEowbVjMwirnJLN",
      "include_colab_link": true
    },
    "kernelspec": {
      "name": "python3",
      "display_name": "Python 3"
    },
    "language_info": {
      "name": "python"
    }
  },
  "cells": [
    {
      "cell_type": "markdown",
      "metadata": {
        "id": "view-in-github",
        "colab_type": "text"
      },
      "source": [
        "<a href=\"https://colab.research.google.com/github/Ryeol93/PythonClass/blob/main/Python211111(%EB%89%B4%EC%8A%A4%ED%81%AC%EB%A1%A4%EB%A7%81).ipynb\" target=\"_parent\"><img src=\"https://colab.research.google.com/assets/colab-badge.svg\" alt=\"Open In Colab\"/></a>"
      ]
    },
    {
      "cell_type": "code",
      "metadata": {
        "id": "zCDNq8lbVQdp"
      },
      "source": [
        "# Daum.net 뉴스"
      ],
      "execution_count": 1,
      "outputs": []
    },
    {
      "cell_type": "code",
      "metadata": {
        "id": "7srzcexMdGd6"
      },
      "source": [
        "from bs4 import BeautifulSoup as bs # 데이터 정리\n",
        "import urllib.request as ur         # 인터넷 페이지 정리"
      ],
      "execution_count": 9,
      "outputs": []
    },
    {
      "cell_type": "code",
      "metadata": {
        "id": "3DGtqdpRdbl2"
      },
      "source": [
        "news = 'https://news.daum.net/'"
      ],
      "execution_count": 10,
      "outputs": []
    },
    {
      "cell_type": "code",
      "metadata": {
        "id": "xSJ7wnQSdk_E"
      },
      "source": [
        "soup = bs(ur.urlopen(news).read(),'html.parser')  # ur.urlopen(news).read() 단순 글자를 'html.parser'로 바꾸는것"
      ],
      "execution_count": 11,
      "outputs": []
    },
    {
      "cell_type": "code",
      "metadata": {
        "id": "-4h913nFeUux"
      },
      "source": [
        "print(soup)"
      ],
      "execution_count": null,
      "outputs": []
    },
    {
      "cell_type": "code",
      "metadata": {
        "colab": {
          "base_uri": "https://localhost:8080/"
        },
        "id": "wylgiq8aeaqO",
        "outputId": "d242a778-03fa-4281-f748-b243e8305ab1"
      },
      "source": [
        "soup.find_all('div',{\"class\":\"item_issue\"})"
      ],
      "execution_count": 14,
      "outputs": [
        {
          "output_type": "execute_result",
          "data": {
            "text/plain": [
              "[<div class=\"item_issue\">\n",
              " <a class=\"link_thumb\" data-tiara-custom=\"contentUniqueKey=hamny-20211111191419483\" data-tiara-id=\"20211111191419483\" data-tiara-layer=\"article_thumb\" data-tiara-ordnum=\"1\" data-tiara-type=\"harmony\" href=\"https://news.v.daum.net/v/20211111191419483\">\n",
              " <img \"경제협력=\"\" alt=\"이재명, 美에 \" class=\"thumb_g\" src=\"https://img1.daumcdn.net/thumb/S254x156ht.u/?fname=https%3A%2F%2Ft1.daumcdn.net%2Fnews%2F202111%2F11%2Fyonhap%2F20211111191419422cpho.jpg&amp;scode=media\" 中에는=\"\" 동맹강화\"=\"\" 심화\"..g2=\"\" 외교전\"=\"\"/>\n",
              " </a>\n",
              " <div class=\"cont_thumb\">\n",
              " <strong class=\"tit_thumb\">\n",
              " <a class=\"link_txt\" data-tiara-custom=\"contentUniqueKey=hamny-20211111191419483\" data-tiara-id=\"20211111191419483\" data-tiara-layer=\"article_main\" data-tiara-ordnum=\"1\" data-tiara-type=\"harmony\" href=\"https://news.v.daum.net/v/20211111191419483\">이재명, 美에 \"동맹강화\" 中에는 \"경제협력 심화\"..G2 외교전</a>\n",
              " </strong>\n",
              " <span class=\"info_thumb\">연합뉴스</span>\n",
              " </div>\n",
              " </div>, <div class=\"item_issue\">\n",
              " <a class=\"link_thumb\" data-tiara-custom=\"contentUniqueKey=hamny-20211111185615183\" data-tiara-id=\"20211111185615183\" data-tiara-layer=\"article_thumb\" data-tiara-ordnum=\"1\" data-tiara-type=\"harmony\" href=\"https://news.v.daum.net/v/20211111185615183\">\n",
              " <img alt=\"공수처 '판사사찰 문건' 관련 윤석열 이어 손준성도 입건\" class=\"thumb_g\" src=\"https://img1.daumcdn.net/thumb/S254x156ht.u/?fname=https%3A%2F%2Ft1.daumcdn.net%2Fnews%2F202111%2F11%2Fdailian%2F20211111185617965kbso.jpg&amp;scode=media\"/>\n",
              " </a>\n",
              " <div class=\"cont_thumb\">\n",
              " <strong class=\"tit_thumb\">\n",
              " <a class=\"link_txt\" data-tiara-custom=\"contentUniqueKey=hamny-20211111185615183\" data-tiara-id=\"20211111185615183\" data-tiara-layer=\"article_main\" data-tiara-ordnum=\"1\" data-tiara-type=\"harmony\" href=\"https://news.v.daum.net/v/20211111185615183\">공수처 '판사사찰 문건' 관련 윤석열 이어 손준성도 입건</a>\n",
              " </strong>\n",
              " <span class=\"info_thumb\">데일리안</span>\n",
              " </div>\n",
              " </div>, <div class=\"item_issue\">\n",
              " <a class=\"link_thumb\" data-tiara-custom=\"contentUniqueKey=hamny-20211111171052503\" data-tiara-id=\"20211111171052503\" data-tiara-layer=\"article_thumb\" data-tiara-ordnum=\"1\" data-tiara-type=\"harmony\" href=\"https://news.v.daum.net/v/20211111171052503\">\n",
              " <img alt=\"미 상무장관 \" class=\"thumb_g\" src=\"https://img1.daumcdn.net/thumb/S254x156ht.u/?fname=https%3A%2F%2Ft1.daumcdn.net%2Fnews%2F202111%2F11%2Fnewsis%2F20211111171052733ekki.jpg&amp;scode=media\" 공급난=\"\" 반도체=\"\" 위해=\"\" 한미=\"\" 합의\"\"=\"\" 해결=\"\" 협력키로=\"\"/>\n",
              " </a>\n",
              " <div class=\"cont_thumb\">\n",
              " <strong class=\"tit_thumb\">\n",
              " <a class=\"link_txt\" data-tiara-custom=\"contentUniqueKey=hamny-20211111171052503\" data-tiara-id=\"20211111171052503\" data-tiara-layer=\"article_main\" data-tiara-ordnum=\"1\" data-tiara-type=\"harmony\" href=\"https://news.v.daum.net/v/20211111171052503\">미 상무장관 \"한미 반도체 공급난 해결 위해 협력키로 합의\"</a>\n",
              " </strong>\n",
              " <span class=\"info_thumb\">뉴시스</span>\n",
              " </div>\n",
              " </div>, <div class=\"item_issue\">\n",
              " <a class=\"link_thumb\" data-tiara-custom=\"contentUniqueKey=hamny-20211111161500425\" data-tiara-id=\"20211111161500425\" data-tiara-layer=\"article_thumb\" data-tiara-ordnum=\"1\" data-tiara-type=\"harmony\" href=\"https://news.v.daum.net/v/20211111161500425\">\n",
              " <img alt=\"'인플레 공포'에 얼어붙은 투심..코스피, 장중 2900선까지 밀려\" class=\"thumb_g\" src=\"https://img1.daumcdn.net/thumb/S254x156ht.u/?fname=https%3A%2F%2Ft1.daumcdn.net%2Fnews%2F202111%2F11%2Fmk%2F20211111161503132cgoj.jpg&amp;scode=media\"/>\n",
              " </a>\n",
              " <div class=\"cont_thumb\">\n",
              " <strong class=\"tit_thumb\">\n",
              " <a class=\"link_txt\" data-tiara-custom=\"contentUniqueKey=hamny-20211111161500425\" data-tiara-id=\"20211111161500425\" data-tiara-layer=\"article_main\" data-tiara-ordnum=\"1\" data-tiara-type=\"harmony\" href=\"https://news.v.daum.net/v/20211111161500425\">'인플레 공포'에 얼어붙은 투심..코스피, 장중 2900선까지 밀려</a>\n",
              " </strong>\n",
              " <span class=\"info_thumb\">매일경제</span>\n",
              " </div>\n",
              " </div>]"
            ]
          },
          "metadata": {},
          "execution_count": 14
        }
      ]
    },
    {
      "cell_type": "code",
      "metadata": {
        "colab": {
          "base_uri": "https://localhost:8080/"
        },
        "id": "QuDq3BNfgN8e",
        "outputId": "ca42504d-175d-463f-8bfb-b4123350eaab"
      },
      "source": [
        "for i in soup.find_all('div',{\"class\":\"item_issue\"}):   # 많을경우 오류나올 수 도 -> for 문으로 뽑아라\n",
        "  print(i.text)"
      ],
      "execution_count": 16,
      "outputs": [
        {
          "output_type": "stream",
          "name": "stdout",
          "text": [
            "\n",
            "\n",
            "\n",
            "\n",
            "\n",
            "\n",
            "이재명, 美에 \"동맹강화\" 中에는 \"경제협력 심화\"..G2 외교전\n",
            "\n",
            "연합뉴스\n",
            "\n",
            "\n",
            "\n",
            "\n",
            "\n",
            "\n",
            "\n",
            "\n",
            "공수처 '판사사찰 문건' 관련 윤석열 이어 손준성도 입건\n",
            "\n",
            "데일리안\n",
            "\n",
            "\n",
            "\n",
            "\n",
            "\n",
            "\n",
            "\n",
            "\n",
            "미 상무장관 \"한미 반도체 공급난 해결 위해 협력키로 합의\"\n",
            "\n",
            "뉴시스\n",
            "\n",
            "\n",
            "\n",
            "\n",
            "\n",
            "\n",
            "\n",
            "\n",
            "'인플레 공포'에 얼어붙은 투심..코스피, 장중 2900선까지 밀려\n",
            "\n",
            "매일경제\n",
            "\n",
            "\n"
          ]
        }
      ]
    },
    {
      "cell_type": "code",
      "metadata": {
        "colab": {
          "base_uri": "https://localhost:8080/"
        },
        "id": "gbHEprIOiBzu",
        "outputId": "f1dd451a-bb05-4c28-8ffc-a612125d0b94"
      },
      "source": [
        "soup.find_all('a') # 링크는 주로 <a> 태그 안에 붙어있다."
      ],
      "execution_count": 17,
      "outputs": [
        {
          "output_type": "execute_result",
          "data": {
            "text/plain": [
              "[<a href=\"#kakaoBody\">본문 바로가기</a>,\n",
              " <a href=\"#kakaoGnb\">메뉴 바로가기</a>,\n",
              " <a data-tiara-layer=\"GNB default service_news\" href=\"https://news.daum.net/\" id=\"kakaoServiceLogo\"><span class=\"ir_wa\">뉴스</span></a>,\n",
              " <a class=\"link_services link_services1\" data-tiara-layer=\"service_enter\" href=\"https://entertain.daum.net\"><span class=\"ir_wa\">연예</span></a>,\n",
              " <a class=\"link_services link_services2\" data-tiara-layer=\"service_sports\" href=\"https://sports.daum.net\"><span class=\"ir_wa\">스포츠</span></a>,\n",
              " <a class=\"link_gnb link_gnb1\" data-tiara-layer=\"media_home\" href=\"/\"><span class=\"screen_out\">선택됨</span><span class=\"ir_wa\">홈</span><span class=\"bar_gnb\"><span class=\"inner_bar\"></span></span></a>,\n",
              " <a class=\"link_gnb link_gnb2\" data-tiara-layer=\"media_society\" href=\"/society\"><span class=\"ir_wa\">사회</span><span class=\"bar_gnb\"><span class=\"inner_bar\"></span></span></a>,\n",
              " <a class=\"link_gnb link_gnb3\" data-tiara-layer=\"media_politics\" href=\"/politics\"><span class=\"ir_wa\">정치</span><span class=\"bar_gnb\"><span class=\"inner_bar\"></span></span></a>,\n",
              " <a class=\"link_gnb link_gnb4\" data-tiara-layer=\"media_economic\" href=\"/economic\"><span class=\"ir_wa\">경제</span><span class=\"bar_gnb\"><span class=\"inner_bar\"></span></span></a>,\n",
              " <a class=\"link_gnb link_gnb5\" data-tiara-layer=\"media_foreign\" href=\"/foreign\"><span class=\"ir_wa\">국제</span><span class=\"bar_gnb\"><span class=\"inner_bar\"></span></span></a>,\n",
              " <a class=\"link_gnb link_gnb6\" data-tiara-layer=\"media_culture\" href=\"/culture\"><span class=\"ir_wa\">문화</span><span class=\"bar_gnb\"><span class=\"inner_bar\"></span></span></a>,\n",
              " <a class=\"link_gnb link_gnb7\" data-tiara-layer=\"media_digital\" href=\"/digital\"><span class=\"ir_wa\">IT</span><span class=\"bar_gnb\"><span class=\"inner_bar\"></span></span></a>,\n",
              " <a class=\"link_gnb link_gnb8\" data-tiara-layer=\"media_ranking\" href=\"/ranking/popular\"><span class=\"ir_wa\">랭킹</span><span class=\"bar_gnb\"><span class=\"inner_bar\"></span></span></a>,\n",
              " <a class=\"link_gnb link_gnb9\" data-tiara-layer=\"media_series\" href=\"/series/\"><span class=\"ir_wa\">연재</span><span class=\"bar_gnb\"><span class=\"inner_bar\"></span></span></a>,\n",
              " <a class=\"link_gnb link_gnb10\" data-tiara-layer=\"media_photo\" href=\"/photo\"><span class=\"ir_wa\">포토</span><span class=\"bar_gnb\"><span class=\"inner_bar\"></span></span></a>,\n",
              " <a class=\"link_gnb link_gnb11\" data-tiara-layer=\"media_tv\" href=\"/tv/\"><span class=\"ir_wa\">TV</span><span class=\"bar_gnb\"><span class=\"inner_bar\"></span></span></a>,\n",
              " <a class=\"link_gnb link_gnb3\" data-tiara-layer=\"media_factcheck\" href=\"https://focus.daum.net/ch/news/factcheck\"><span class=\"ir_wa\">팩트체크</span><span class=\"bar_gnb\"><span class=\"inner_bar\"></span></span></a>,\n",
              " <a class=\"link_cont\" data-tiara-layer=\"GNB default widget_weather\" href=\"http://search.daum.net/search?w=tot&amp;DA=23W&amp;rtmaxcoll=Z8T&amp;q=서울특별시날씨\">\n",
              " <span class=\"ico_weather ico_weather1\">맑음</span>\n",
              " <span class=\"txt_weather\">\n",
              " \t\t\t\t\t\t\t\t\t\t\t서울\n",
              " \t\t\t\t\t\t\t\t\t\t\t<span class=\"num_heat\">6</span> ℃\n",
              "                                 \t\t</span>\n",
              " </a>,\n",
              " <a class=\"link_cont\" data-tiara-layer=\"GNB default widget_weather\" href=\"http://search.daum.net/search?w=tot&amp;DA=23W&amp;rtmaxcoll=Z8T&amp;q=수원시 권선구날씨\">\n",
              " <span class=\"ico_weather ico_weather1\">맑음</span>\n",
              " <span class=\"txt_weather\">\n",
              " \t\t\t\t\t\t\t\t\t\t\t수원\n",
              " \t\t\t\t\t\t\t\t\t\t\t<span class=\"num_heat\">7</span> ℃\n",
              "                                 \t\t</span>\n",
              " </a>,\n",
              " <a class=\"link_cont\" data-tiara-layer=\"GNB default widget_weather\" href=\"http://search.daum.net/search?w=tot&amp;DA=23W&amp;rtmaxcoll=Z8T&amp;q=인천광역시날씨\">\n",
              " <span class=\"ico_weather ico_weather1\">맑음</span>\n",
              " <span class=\"txt_weather\">\n",
              " \t\t\t\t\t\t\t\t\t\t\t인천\n",
              " \t\t\t\t\t\t\t\t\t\t\t<span class=\"num_heat\">7</span> ℃\n",
              "                                 \t\t</span>\n",
              " </a>,\n",
              " <a class=\"link_cont\" data-tiara-layer=\"GNB default widget_weather\" href=\"http://search.daum.net/search?w=tot&amp;DA=23W&amp;rtmaxcoll=Z8T&amp;q=대구광역시날씨\">\n",
              " <span class=\"ico_weather ico_weather1\">맑음</span>\n",
              " <span class=\"txt_weather\">\n",
              " \t\t\t\t\t\t\t\t\t\t\t대구\n",
              " \t\t\t\t\t\t\t\t\t\t\t<span class=\"num_heat\">9</span> ℃\n",
              "                                 \t\t</span>\n",
              " </a>,\n",
              " <a class=\"link_cont\" data-tiara-layer=\"GNB default widget_weather\" href=\"http://search.daum.net/search?w=tot&amp;DA=23W&amp;rtmaxcoll=Z8T&amp;q=대전광역시날씨\">\n",
              " <span class=\"ico_weather ico_weather9\">비</span>\n",
              " <span class=\"txt_weather\">\n",
              " \t\t\t\t\t\t\t\t\t\t\t대전\n",
              " \t\t\t\t\t\t\t\t\t\t\t<span class=\"num_heat\">7</span> ℃\n",
              "                                 \t\t</span>\n",
              " </a>,\n",
              " <a class=\"link_cont\" data-tiara-layer=\"GNB default widget_weather\" href=\"http://search.daum.net/search?w=tot&amp;DA=23W&amp;rtmaxcoll=Z8T&amp;q=광주광역시날씨\">\n",
              " <span class=\"ico_weather ico_weather9\">비</span>\n",
              " <span class=\"txt_weather\">\n",
              " \t\t\t\t\t\t\t\t\t\t\t광주\n",
              " \t\t\t\t\t\t\t\t\t\t\t<span class=\"num_heat\">7</span> ℃\n",
              "                                 \t\t</span>\n",
              " </a>,\n",
              " <a class=\"link_cont\" data-tiara-layer=\"GNB default widget_weather\" href=\"http://search.daum.net/search?w=tot&amp;DA=23W&amp;rtmaxcoll=Z8T&amp;q=부산광역시날씨\">\n",
              " <span class=\"ico_weather ico_weather1\">맑음</span>\n",
              " <span class=\"txt_weather\">\n",
              " \t\t\t\t\t\t\t\t\t\t\t부산\n",
              " \t\t\t\t\t\t\t\t\t\t\t<span class=\"num_heat\">10</span> ℃\n",
              "                                 \t\t</span>\n",
              " </a>,\n",
              " <a class=\"link_cont\" data-tiara-layer=\"GNB default widget_weather\" href=\"http://search.daum.net/search?w=tot&amp;DA=23W&amp;rtmaxcoll=Z8T&amp;q=울산광역시날씨\">\n",
              " <span class=\"ico_weather ico_weather1\">맑음</span>\n",
              " <span class=\"txt_weather\">\n",
              " \t\t\t\t\t\t\t\t\t\t\t울산\n",
              " \t\t\t\t\t\t\t\t\t\t\t<span class=\"num_heat\">9</span> ℃\n",
              "                                 \t\t</span>\n",
              " </a>,\n",
              " <a class=\"link_cont\" data-tiara-layer=\"GNB default widget_weather\" href=\"http://search.daum.net/search?w=tot&amp;DA=23W&amp;rtmaxcoll=Z8T&amp;q=울릉군날씨\">\n",
              " <span class=\"ico_weather ico_weather1\">맑음</span>\n",
              " <span class=\"txt_weather\">\n",
              " \t\t\t\t\t\t\t\t\t\t\t울릉/독도\n",
              " \t\t\t\t\t\t\t\t\t\t\t<span class=\"num_heat\">9</span> ℃\n",
              "                                 \t\t</span>\n",
              " </a>,\n",
              " <a class=\"link_cont\" data-tiara-layer=\"GNB default widget_weather\" href=\"http://search.daum.net/search?w=tot&amp;DA=23W&amp;rtmaxcoll=Z8T&amp;q=춘천시날씨\">\n",
              " <span class=\"ico_weather ico_weather3\">구름많음</span>\n",
              " <span class=\"txt_weather\">\n",
              " \t\t\t\t\t\t\t\t\t\t\t춘천\n",
              " \t\t\t\t\t\t\t\t\t\t\t<span class=\"num_heat\">7</span> ℃\n",
              "                                 \t\t</span>\n",
              " </a>,\n",
              " <a class=\"link_cont\" data-tiara-layer=\"GNB default widget_weather\" href=\"http://search.daum.net/search?w=tot&amp;DA=23W&amp;rtmaxcoll=Z8T&amp;q=강릉시날씨\">\n",
              " <span class=\"ico_weather ico_weather1\">맑음</span>\n",
              " <span class=\"txt_weather\">\n",
              " \t\t\t\t\t\t\t\t\t\t\t강릉\n",
              " \t\t\t\t\t\t\t\t\t\t\t<span class=\"num_heat\">8</span> ℃\n",
              "                                 \t\t</span>\n",
              " </a>,\n",
              " <a class=\"link_cont\" data-tiara-layer=\"GNB default widget_weather\" href=\"http://search.daum.net/search?w=tot&amp;DA=23W&amp;rtmaxcoll=Z8T&amp;q=백령면날씨\">\n",
              " <span class=\"ico_weather ico_weather9\">비</span>\n",
              " <span class=\"txt_weather\">\n",
              " \t\t\t\t\t\t\t\t\t\t\t백령\n",
              " \t\t\t\t\t\t\t\t\t\t\t<span class=\"num_heat\">7</span> ℃\n",
              "                                 \t\t</span>\n",
              " </a>,\n",
              " <a class=\"link_cont\" data-tiara-layer=\"GNB default widget_weather\" href=\"http://search.daum.net/search?w=tot&amp;DA=23W&amp;rtmaxcoll=Z8T&amp;q=청주시 상당구날씨\">\n",
              " <span class=\"ico_weather ico_weather1\">맑음</span>\n",
              " <span class=\"txt_weather\">\n",
              " \t\t\t\t\t\t\t\t\t\t\t청주\n",
              " \t\t\t\t\t\t\t\t\t\t\t<span class=\"num_heat\">3</span> ℃\n",
              "                                 \t\t</span>\n",
              " </a>,\n",
              " <a class=\"link_cont\" data-tiara-layer=\"GNB default widget_weather\" href=\"http://search.daum.net/search?w=tot&amp;DA=23W&amp;rtmaxcoll=Z8T&amp;q=전주시 완산구날씨\">\n",
              " <span class=\"ico_weather ico_weather9\">비</span>\n",
              " <span class=\"txt_weather\">\n",
              " \t\t\t\t\t\t\t\t\t\t\t전주\n",
              " \t\t\t\t\t\t\t\t\t\t\t<span class=\"num_heat\">8</span> ℃\n",
              "                                 \t\t</span>\n",
              " </a>,\n",
              " <a class=\"link_cont\" data-tiara-layer=\"GNB default widget_weather\" href=\"http://search.daum.net/search?w=tot&amp;DA=23W&amp;rtmaxcoll=Z8T&amp;q=목포시날씨\">\n",
              " <span class=\"ico_weather ico_weather9\">비</span>\n",
              " <span class=\"txt_weather\">\n",
              " \t\t\t\t\t\t\t\t\t\t\t목포\n",
              " \t\t\t\t\t\t\t\t\t\t\t<span class=\"num_heat\">11</span> ℃\n",
              "                                 \t\t</span>\n",
              " </a>,\n",
              " <a class=\"link_cont\" data-tiara-layer=\"GNB default widget_weather\" href=\"http://search.daum.net/search?w=tot&amp;DA=23W&amp;rtmaxcoll=Z8T&amp;q=여수시날씨\">\n",
              " <span class=\"ico_weather ico_weather1\">맑음</span>\n",
              " <span class=\"txt_weather\">\n",
              " \t\t\t\t\t\t\t\t\t\t\t여수\n",
              " \t\t\t\t\t\t\t\t\t\t\t<span class=\"num_heat\">9</span> ℃\n",
              "                                 \t\t</span>\n",
              " </a>,\n",
              " <a class=\"link_cont\" data-tiara-layer=\"GNB default widget_weather\" href=\"http://search.daum.net/search?w=tot&amp;DA=23W&amp;rtmaxcoll=Z8T&amp;q=제주특별자치도날씨\">\n",
              " <span class=\"ico_weather ico_weather9\">비</span>\n",
              " <span class=\"txt_weather\">\n",
              " \t\t\t\t\t\t\t\t\t\t\t제주\n",
              " \t\t\t\t\t\t\t\t\t\t\t<span class=\"num_heat\">14</span> ℃\n",
              "                                 \t\t</span>\n",
              " </a>,\n",
              " <a class=\"link_cont\" data-tiara-layer=\"GNB default widget_weather\" href=\"http://search.daum.net/search?w=tot&amp;DA=23W&amp;rtmaxcoll=Z8T&amp;q=안동시날씨\">\n",
              " <span class=\"ico_weather ico_weather1\">맑음</span>\n",
              " <span class=\"txt_weather\">\n",
              " \t\t\t\t\t\t\t\t\t\t\t안동\n",
              " \t\t\t\t\t\t\t\t\t\t\t<span class=\"num_heat\">7</span> ℃\n",
              "                                 \t\t</span>\n",
              " </a>,\n",
              " <a class=\"link_cont\" data-tiara-layer=\"GNB default widget_weather\" href=\"http://search.daum.net/search?w=tot&amp;DA=23W&amp;rtmaxcoll=Z8T&amp;q=창원시 의창구날씨\">\n",
              " <span class=\"ico_weather ico_weather1\">맑음</span>\n",
              " <span class=\"txt_weather\">\n",
              " \t\t\t\t\t\t\t\t\t\t\t창원\n",
              " \t\t\t\t\t\t\t\t\t\t\t<span class=\"num_heat\">10</span> ℃\n",
              "                                 \t\t</span>\n",
              " </a>,\n",
              " <a class=\"link_thumb\" data-tiara-custom=\"contentUniqueKey=hamny-20211111191419483\" data-tiara-id=\"20211111191419483\" data-tiara-layer=\"article_thumb\" data-tiara-ordnum=\"1\" data-tiara-type=\"harmony\" href=\"https://news.v.daum.net/v/20211111191419483\">\n",
              " <img \"경제협력=\"\" alt=\"이재명, 美에 \" class=\"thumb_g\" src=\"https://img1.daumcdn.net/thumb/S254x156ht.u/?fname=https%3A%2F%2Ft1.daumcdn.net%2Fnews%2F202111%2F11%2Fyonhap%2F20211111191419422cpho.jpg&amp;scode=media\" 中에는=\"\" 동맹강화\"=\"\" 심화\"..g2=\"\" 외교전\"=\"\"/>\n",
              " </a>,\n",
              " <a class=\"link_txt\" data-tiara-custom=\"contentUniqueKey=hamny-20211111191419483\" data-tiara-id=\"20211111191419483\" data-tiara-layer=\"article_main\" data-tiara-ordnum=\"1\" data-tiara-type=\"harmony\" href=\"https://news.v.daum.net/v/20211111191419483\">이재명, 美에 \"동맹강화\" 中에는 \"경제협력 심화\"..G2 외교전</a>,\n",
              " <a class=\"link_txt\" data-tiara-custom=\"contentUniqueKey=hamny-20211111185109115\" data-tiara-id=\"20211111185109115\" data-tiara-layer=\"article_sub\" data-tiara-ordnum=\"1\" data-tiara-type=\"harmony\" href=\"https://news.v.daum.net/v/20211111185109115\">이재명 \"한미, 경제동맹·글로벌 파트너십으로 성장하길\"</a>,\n",
              " <a class=\"link_txt\" data-tiara-custom=\"contentUniqueKey=hamny-20211111184603037\" data-tiara-id=\"20211111184603037\" data-tiara-layer=\"article_sub\" data-tiara-ordnum=\"2\" data-tiara-type=\"harmony\" href=\"https://news.v.daum.net/v/20211111184603037\">이재명, 미 차관보-중 대사 연쇄 회동..외교 행보 첫발</a>,\n",
              " <a class=\"link_thumb\" data-tiara-custom=\"contentUniqueKey=hamny-20211111185615183\" data-tiara-id=\"20211111185615183\" data-tiara-layer=\"article_thumb\" data-tiara-ordnum=\"1\" data-tiara-type=\"harmony\" href=\"https://news.v.daum.net/v/20211111185615183\">\n",
              " <img alt=\"공수처 '판사사찰 문건' 관련 윤석열 이어 손준성도 입건\" class=\"thumb_g\" src=\"https://img1.daumcdn.net/thumb/S254x156ht.u/?fname=https%3A%2F%2Ft1.daumcdn.net%2Fnews%2F202111%2F11%2Fdailian%2F20211111185617965kbso.jpg&amp;scode=media\"/>\n",
              " </a>,\n",
              " <a class=\"link_txt\" data-tiara-custom=\"contentUniqueKey=hamny-20211111185615183\" data-tiara-id=\"20211111185615183\" data-tiara-layer=\"article_main\" data-tiara-ordnum=\"1\" data-tiara-type=\"harmony\" href=\"https://news.v.daum.net/v/20211111185615183\">공수처 '판사사찰 문건' 관련 윤석열 이어 손준성도 입건</a>,\n",
              " <a class=\"link_txt\" data-tiara-custom=\"contentUniqueKey=hamny-20211111174613744\" data-tiara-id=\"20211111174613744\" data-tiara-layer=\"article_sub\" data-tiara-ordnum=\"1\" data-tiara-type=\"harmony\" href=\"https://news.v.daum.net/v/20211111174613744\">공수처, '판사사찰 문건' 의혹 윤석열 이어 손준성도 입건</a>,\n",
              " <a class=\"link_txt\" data-tiara-custom=\"contentUniqueKey=hamny-20211111164845695\" data-tiara-id=\"20211111164845695\" data-tiara-layer=\"article_sub\" data-tiara-ordnum=\"2\" data-tiara-type=\"harmony\" href=\"https://news.v.daum.net/v/20211111164845695\">공수처, '판사사찰 문건' 의혹 尹 이어 손준성도 입건</a>,\n",
              " <a class=\"link_thumb\" data-tiara-custom=\"contentUniqueKey=hamny-20211111171052503\" data-tiara-id=\"20211111171052503\" data-tiara-layer=\"article_thumb\" data-tiara-ordnum=\"1\" data-tiara-type=\"harmony\" href=\"https://news.v.daum.net/v/20211111171052503\">\n",
              " <img alt=\"미 상무장관 \" class=\"thumb_g\" src=\"https://img1.daumcdn.net/thumb/S254x156ht.u/?fname=https%3A%2F%2Ft1.daumcdn.net%2Fnews%2F202111%2F11%2Fnewsis%2F20211111171052733ekki.jpg&amp;scode=media\" 공급난=\"\" 반도체=\"\" 위해=\"\" 한미=\"\" 합의\"\"=\"\" 해결=\"\" 협력키로=\"\"/>\n",
              " </a>,\n",
              " <a class=\"link_txt\" data-tiara-custom=\"contentUniqueKey=hamny-20211111171052503\" data-tiara-id=\"20211111171052503\" data-tiara-layer=\"article_main\" data-tiara-ordnum=\"1\" data-tiara-type=\"harmony\" href=\"https://news.v.daum.net/v/20211111171052503\">미 상무장관 \"한미 반도체 공급난 해결 위해 협력키로 합의\"</a>,\n",
              " <a class=\"link_txt\" data-tiara-custom=\"contentUniqueKey=hamny-20211111150407029\" data-tiara-id=\"20211111150407029\" data-tiara-layer=\"article_sub\" data-tiara-ordnum=\"1\" data-tiara-type=\"harmony\" href=\"https://news.v.daum.net/v/20211111150407029\">미 상무장관 \"한미, 반도체 수급 정보 공유 합의\"</a>,\n",
              " <a class=\"link_txt\" data-tiara-custom=\"contentUniqueKey=hamny-20211111123608725\" data-tiara-id=\"20211111123608725\" data-tiara-layer=\"article_sub\" data-tiara-ordnum=\"2\" data-tiara-type=\"harmony\" href=\"https://news.v.daum.net/v/20211111123608725\">미 상무장관 \"한미, 반도체 공급망 위기 해결 위해 협력키로\"</a>,\n",
              " <a class=\"link_thumb\" data-tiara-custom=\"contentUniqueKey=hamny-20211111161500425\" data-tiara-id=\"20211111161500425\" data-tiara-layer=\"article_thumb\" data-tiara-ordnum=\"1\" data-tiara-type=\"harmony\" href=\"https://news.v.daum.net/v/20211111161500425\">\n",
              " <img alt=\"'인플레 공포'에 얼어붙은 투심..코스피, 장중 2900선까지 밀려\" class=\"thumb_g\" src=\"https://img1.daumcdn.net/thumb/S254x156ht.u/?fname=https%3A%2F%2Ft1.daumcdn.net%2Fnews%2F202111%2F11%2Fmk%2F20211111161503132cgoj.jpg&amp;scode=media\"/>\n",
              " </a>,\n",
              " <a class=\"link_txt\" data-tiara-custom=\"contentUniqueKey=hamny-20211111161500425\" data-tiara-id=\"20211111161500425\" data-tiara-layer=\"article_main\" data-tiara-ordnum=\"1\" data-tiara-type=\"harmony\" href=\"https://news.v.daum.net/v/20211111161500425\">'인플레 공포'에 얼어붙은 투심..코스피, 장중 2900선까지 밀려</a>,\n",
              " <a class=\"link_txt\" data-tiara-custom=\"contentUniqueKey=hamny-20211111160812219\" data-tiara-id=\"20211111160812219\" data-tiara-layer=\"article_sub\" data-tiara-ordnum=\"1\" data-tiara-type=\"harmony\" href=\"https://news.v.daum.net/v/20211111160812219\">코스피, 인플레 우려에 0.2%↓ 2920선..엔씨소프트 상한가</a>,\n",
              " <a class=\"link_txt\" data-tiara-custom=\"contentUniqueKey=hamny-20211111134646340\" data-tiara-id=\"20211111134646340\" data-tiara-layer=\"article_sub\" data-tiara-ordnum=\"2\" data-tiara-type=\"harmony\" href=\"https://news.v.daum.net/v/20211111134646340\">코스피, 장중 기관 매도에 0.5% 하락 2910선..엔씨소프트 상한가</a>,\n",
              " <a class=\"link_cont\" data-tiara-custom=\"contentUniqueKey=hamny-20211111152933374\" data-tiara-id=\"20211111152933374\" data-tiara-layer=\"photo\" data-tiara-ordnum=\"1\" data-tiara-type=\"harmony\" href=\"https://v.daum.net/v/20211111152933374\">\n",
              " <span class=\"wrap_thumb\">\n",
              " <img alt=\"\" class=\"thumb_g\" src=\"https://img1.daumcdn.net/thumb/S189x104ht.u/?fname=https%3A%2F%2Ft1.daumcdn.net%2Fnews%2F202111%2F11%2Fmoneytoday%2F20211111154723264gzyo.jpg&amp;scode=media\" 경제수석=\"\" 기재부=\"\" 박원주\"=\"\" 산업부=\"\" 제치고..\"=\"\" 첫=\"\" 청와대=\"\" 출신=\"\"/>\n",
              " </span>\n",
              " <strong class=\"tit_g\">\"기재부 제치고..\" 산업부 출신 첫 청와대 경제수석 박원주</strong>\n",
              " </a>,\n",
              " <a class=\"link_txt\" data-tiara-custom=\"contentUniqueKey=hamny-20211111152005889\" data-tiara-id=\"20211111152005889\" data-tiara-layer=\"article\" data-tiara-ordnum=\"4\" data-tiara-type=\"harmony\" href=\"https://v.daum.net/v/20211111152005889\">\"테슬라株 팔까\" 투표한 머스크, 3일간 6조원어치 매각</a>,\n",
              " <a class=\"link_txt\" data-tiara-custom=\"contentUniqueKey=hamny-20211111161230348\" data-tiara-id=\"20211111161230348\" data-tiara-layer=\"article\" data-tiara-ordnum=\"5\" data-tiara-type=\"harmony\" href=\"https://v.daum.net/v/20211111161230348\">한국GM, 쉐보레 서울서비스센터 재건축..\"판매·정비 한 번에\"</a>,\n",
              " <a class=\"link_txt\" data-tiara-custom=\"contentUniqueKey=hamny-20211111175738087\" data-tiara-id=\"20211111175738087\" data-tiara-layer=\"article\" data-tiara-ordnum=\"6\" data-tiara-type=\"harmony\" href=\"https://v.daum.net/v/20211111175738087\">이재명, '조건부 특검'으로 쌍특검 맞불..反특검 프레임 깨기</a>,\n",
              " <a class=\"link_txt\" data-tiara-custom=\"contentUniqueKey=hamny-20211111175406990\" data-tiara-id=\"20211111175406990\" data-tiara-layer=\"article\" data-tiara-ordnum=\"7\" data-tiara-type=\"harmony\" href=\"https://v.daum.net/v/20211111175406990\">\"종전선언 조율 끝나..쉽지 않아\" 외교장관의 모호 화법</a>,\n",
              " <a class=\"link_cont\" data-tiara-custom=\"contentUniqueKey=hamny-20211111142604939\" data-tiara-id=\"20211111142604939\" data-tiara-layer=\"photo\" data-tiara-ordnum=\"2\" data-tiara-type=\"harmony\" href=\"https://v.daum.net/v/20211111142604939\">\n",
              " <span class=\"wrap_thumb\">\n",
              " <img 1년=\"\" alt=\"\" class=\"thumb_g\" src=\"https://img1.daumcdn.net/thumb/S189x104ht.u/?fname=https%3A%2F%2Ft1.daumcdn.net%2Fnews%2F202111%2F11%2FEdaily%2F20211111142607804tabk.jpg&amp;scode=media\" 과세=\"\" 대상도,=\"\" 불확실..가상자산=\"\" 유예해야\"\"=\"\" 인프라도=\"\"/>\n",
              " </span>\n",
              " <strong class=\"tit_g\">\"과세 대상도, 인프라도 불확실..가상자산 과세 1년 유예해야\"</strong>\n",
              " </a>,\n",
              " <a class=\"link_txt\" data-tiara-custom=\"contentUniqueKey=hamny-20211111174626749\" data-tiara-id=\"20211111174626749\" data-tiara-layer=\"article\" data-tiara-ordnum=\"8\" data-tiara-type=\"harmony\" href=\"https://v.daum.net/v/20211111174626749\">호주산 요소수 2만7천L 실은 수송기 도착..군 비축분도 풀려</a>,\n",
              " <a class=\"link_txt\" data-tiara-custom=\"contentUniqueKey=hamny-20211111172448034\" data-tiara-id=\"20211111172448034\" data-tiara-layer=\"article\" data-tiara-ordnum=\"9\" data-tiara-type=\"harmony\" href=\"https://v.daum.net/v/20211111172448034\">野, 이재명의 '조건부 특검' 총공세 \"가불기\" \"물귀신\"</a>,\n",
              " <a class=\"link_txt\" data-tiara-custom=\"contentUniqueKey=hamny-20211111163415202\" data-tiara-id=\"20211111163415202\" data-tiara-layer=\"article\" data-tiara-ordnum=\"10\" data-tiara-type=\"harmony\" href=\"https://v.daum.net/v/20211111163415202\">위중증 473명 역대 최다..\"일상회복 2단계 전환 어려울 수도\"</a>,\n",
              " <a class=\"link_txt\" data-tiara-custom=\"contentUniqueKey=hamny-20211111163355191\" data-tiara-id=\"20211111163355191\" data-tiara-layer=\"article\" data-tiara-ordnum=\"11\" data-tiara-type=\"harmony\" href=\"https://v.daum.net/v/20211111163355191\">정은경 \"일상회복 2단계 전환 어려울수도..방역조치 강화 가능\"</a>,\n",
              " <a class=\"link_cont\" data-tiara-custom=\"contentUniqueKey=hamny-20211111172243956\" data-tiara-id=\"20211111172243956\" data-tiara-layer=\"photo\" data-tiara-ordnum=\"3\" data-tiara-type=\"harmony\" href=\"https://v.daum.net/v/20211111172243956\">\n",
              " <span class=\"wrap_thumb\">\n",
              " <img \"대통령돼도=\"\" alt=\"이재명 \" class=\"thumb_g\" src=\"https://img1.daumcdn.net/thumb/S189x104ht.u/?fname=https%3A%2F%2Ft1.daumcdn.net%2Fnews%2F202111%2F11%2FNEWS1%2F20211111172243798tnoa.jpg&amp;scode=media\" 난=\"\" 모독\"..윤석열=\"\" 백블합니다\"\"=\"\" 오월정신=\"\"/>\n",
              " </span>\n",
              " <strong class=\"tit_g\">이재명 \"오월정신 모독\"..윤석열 \"대통령돼도 난 백블합니다\"</strong>\n",
              " </a>,\n",
              " <a class=\"link_txt\" data-tiara-custom=\"contentUniqueKey=hamny-20211111165647931\" data-tiara-id=\"20211111165647931\" data-tiara-layer=\"article\" data-tiara-ordnum=\"12\" data-tiara-type=\"harmony\" href=\"https://v.daum.net/v/20211111165647931\">'부스터샷' 80대 여성, 접종 이틀후 사망..인과성 조사</a>,\n",
              " <a class=\"link_txt\" data-tiara-custom=\"contentUniqueKey=hamny-20211111180605355\" data-tiara-id=\"20211111180605355\" data-tiara-layer=\"article\" data-tiara-ordnum=\"13\" data-tiara-type=\"harmony\" href=\"https://v.daum.net/v/20211111180605355\">정진웅측, 檢수사관 2명 증인신청 \"왜 증거인멸 염려됐는지 설명\"</a>,\n",
              " <a class=\"link_txt\" data-tiara-custom=\"contentUniqueKey=hamny-20211111164801670\" data-tiara-id=\"20211111164801670\" data-tiara-layer=\"article\" data-tiara-ordnum=\"14\" data-tiara-type=\"harmony\" href=\"https://v.daum.net/v/20211111164801670\">청소년 심야 게임 금지 '셧다운 제도' 10년 만에 사라진다</a>,\n",
              " <a class=\"link_txt\" data-tiara-custom=\"contentUniqueKey=hamny-20211111163154116\" data-tiara-id=\"20211111163154116\" data-tiara-layer=\"article\" data-tiara-ordnum=\"15\" data-tiara-type=\"harmony\" href=\"https://v.daum.net/v/20211111163154116\">與 윤석열 '반듯이' 맹폭..\"5월 정신이 비뚤어졌나\"</a>,\n",
              " <a class=\"link_cont\" data-tiara-custom=\"contentUniqueKey=hamny-20211111191020413\" data-tiara-id=\"20211111191020413\" data-tiara-ordnum=\"1\" data-tiara-type=\"harmony\" href=\"https://gallery.v.daum.net/p/viewer/379/kaziUQYsFy\">\n",
              " <span class=\"wrap_thumb\">\n",
              " <img alt=\"\" class=\"thumb_g\" height=\"142\" src=\"https://img1.daumcdn.net/thumb/S254x142ht.u/?fname=https%3A%2F%2Ft1.daumcdn.net%2Fnews%2F202111%2F11%2Fkppa%2F20211111191020909yoca.jpg&amp;scode=media\" width=\"254\"/>\n",
              " </span>\n",
              " <strong class=\"tit_thumb\"> 홍시 되면 맛있겠다</strong>\n",
              " </a>,\n",
              " <a class=\"btn_photoview\" data-tiara-custom=\"contentUniqueKey=hamny-20211111191020413\" data-tiara-id=\"20211111191020413\" data-tiara-ordnum=\"1\" data-tiara-type=\"harmony\" href=\"https://gallery.v.daum.net/p/viewer/379/kaziUQYsFy\">\n",
              " <span class=\"ico_news\">포토갤러리</span>\n",
              " </a>,\n",
              " <a class=\"link_txt\" data-tiara-custom=\"contentUniqueKey=gallery=379\" data-tiara-id=\"379\" data-tiara-ordnum=\"1\" data-tiara-type=\"gallery\" href=\"https://gallery.v.daum.net/p/viewer/379/\">포토친구</a>,\n",
              " <a class=\"link_cont\" data-tiara-custom=\"contentUniqueKey=hamny-20211111185519169\" data-tiara-id=\"20211111185519169\" data-tiara-ordnum=\"2\" data-tiara-type=\"harmony\" href=\"https://gallery.v.daum.net/p/viewer/5030473/kIIBlbhNAz\">\n",
              " <span class=\"wrap_thumb\">\n",
              " <img alt=\"\" class=\"thumb_g\" height=\"142\" src=\"https://img1.daumcdn.net/thumb/S254x142ht.u/?fname=https%3A%2F%2Ft1.daumcdn.net%2Fnews%2F202111%2F11%2Fyonhap%2F20211111185519138gyjk.jpg&amp;scode=media\" width=\"254\"/>\n",
              " </span>\n",
              " <strong class=\"tit_thumb\">홍콩 'M+ 뮤지엄'에 전시된 20만개의 토제 인물상</strong>\n",
              " </a>,\n",
              " <a class=\"btn_photoview\" data-tiara-custom=\"contentUniqueKey=hamny-20211111185519169\" data-tiara-id=\"20211111185519169\" data-tiara-ordnum=\"2\" data-tiara-type=\"harmony\" href=\"https://gallery.v.daum.net/p/viewer/5030473/kIIBlbhNAz\">\n",
              " <span class=\"ico_news\">포토갤러리</span>\n",
              " </a>,\n",
              " <a class=\"link_txt\" data-tiara-custom=\"contentUniqueKey=gallery=5030473\" data-tiara-id=\"5030473\" data-tiara-ordnum=\"2\" data-tiara-type=\"gallery\" href=\"https://gallery.v.daum.net/p/viewer/5030473/\">홍콩은 지금</a>,\n",
              " <a class=\"link_cont\" data-tiara-custom=\"contentUniqueKey=hamny-20211111175754090\" data-tiara-id=\"20211111175754090\" data-tiara-ordnum=\"3\" data-tiara-type=\"harmony\" href=\"https://gallery.v.daum.net/p/viewer/2904/kpe0TiHvKr\">\n",
              " <span class=\"wrap_thumb\">\n",
              " <img alt=\"\" class=\"thumb_g\" height=\"142\" src=\"https://img1.daumcdn.net/thumb/S254x142ht.u/?fname=https%3A%2F%2Ft1.daumcdn.net%2Fnews%2F202111%2F11%2Fseouleconomy%2F20211111175833292cxwf.jpg&amp;scode=media\" width=\"254\"/>\n",
              " </span>\n",
              " <strong class=\"tit_thumb\">\"오커스 갈등 끝내자\"..마크롱 만난 해리스</strong>\n",
              " </a>,\n",
              " <a class=\"btn_photoview\" data-tiara-custom=\"contentUniqueKey=hamny-20211111175754090\" data-tiara-id=\"20211111175754090\" data-tiara-ordnum=\"3\" data-tiara-type=\"harmony\" href=\"https://gallery.v.daum.net/p/viewer/2904/kpe0TiHvKr\">\n",
              " <span class=\"ico_news\">포토갤러리</span>\n",
              " </a>,\n",
              " <a class=\"link_txt\" data-tiara-custom=\"contentUniqueKey=gallery=2904\" data-tiara-id=\"2904\" data-tiara-ordnum=\"3\" data-tiara-type=\"gallery\" href=\"https://gallery.v.daum.net/p/viewer/2904/\">프랑스 마크롱 대통령</a>,\n",
              " <a class=\"link_cont\" data-tiara-custom=\"contentUniqueKey=hamny-20211111175423996\" data-tiara-id=\"20211111175423996\" data-tiara-ordnum=\"4\" data-tiara-type=\"harmony\" href=\"https://gallery.v.daum.net/p/viewer/47169/kmswD29OYh\">\n",
              " <span class=\"wrap_thumb\">\n",
              " <img alt=\"\" class=\"thumb_g\" height=\"142\" src=\"https://img1.daumcdn.net/thumb/S254x142ht.u/?fname=https%3A%2F%2Ft1.daumcdn.net%2Fnews%2F202111%2F11%2Fnewsis%2F20211111175423772rfpz.jpg&amp;scode=media\" width=\"254\"/>\n",
              " </span>\n",
              " <strong class=\"tit_thumb\">청태산 설경</strong>\n",
              " </a>,\n",
              " <a class=\"btn_photoview\" data-tiara-custom=\"contentUniqueKey=hamny-20211111175423996\" data-tiara-id=\"20211111175423996\" data-tiara-ordnum=\"4\" data-tiara-type=\"harmony\" href=\"https://gallery.v.daum.net/p/viewer/47169/kmswD29OYh\">\n",
              " <span class=\"ico_news\">포토갤러리</span>\n",
              " </a>,\n",
              " <a class=\"link_txt\" data-tiara-custom=\"contentUniqueKey=gallery=47169\" data-tiara-id=\"47169\" data-tiara-ordnum=\"4\" data-tiara-type=\"gallery\" href=\"https://gallery.v.daum.net/p/viewer/47169/\">눈 오는 풍경</a>,\n",
              " <a class=\"link_txt\" data-tiara-custom=\"contentUniqueKey=hamny-20211111073417704\" data-tiara-id=\"20211111073417704\" data-tiara-layer=\"article\" data-tiara-ordnum=\"1\" data-tiara-type=\"harmony\" href=\"https://v.daum.net/v/20211111073417704\">\n",
              " <span class=\"num_news num1\">1 위</span>\n",
              "                         \"40톤 넘으면 무조건 과적\"..중장비는 어떻게 옮기라고?\n",
              "                     </a>,\n",
              " <a class=\"link_txt\" data-tiara-custom=\"contentUniqueKey=hamny-20211111000101046\" data-tiara-id=\"20211111000101046\" data-tiara-layer=\"article\" data-tiara-ordnum=\"2\" data-tiara-type=\"harmony\" href=\"https://v.daum.net/v/20211111000101046\">\n",
              " <span class=\"num_news num2\">2 위</span>\n",
              "                         18명 예약한 뒤 '노쇼'..적반하장으로 화낸 손님 \"신고하던지\"\n",
              "                     </a>,\n",
              " <a class=\"link_txt\" data-tiara-custom=\"contentUniqueKey=hamny-20211111050505470\" data-tiara-id=\"20211111050505470\" data-tiara-layer=\"article\" data-tiara-ordnum=\"3\" data-tiara-type=\"harmony\" href=\"https://v.daum.net/v/20211111050505470\">\n",
              " <span class=\"num_news num3\">3 위</span>\n",
              "                         폐교 위기 민사고가 교명을 바꾸려는 이유[만났습니다]\n",
              "                     </a>,\n",
              " <a class=\"link_txt\" data-tiara-custom=\"contentUniqueKey=hamny-20211111044001246\" data-tiara-id=\"20211111044001246\" data-tiara-layer=\"article\" data-tiara-ordnum=\"4\" data-tiara-type=\"harmony\" href=\"https://v.daum.net/v/20211111044001246\">\n",
              " <span class=\"num_news num4\">4 위</span>\n",
              "                         뇌출혈 아버지 '간병살인' 20대 청년..아버지 마지막 말에 8일간 울었다\n",
              "                     </a>,\n",
              " <a class=\"link_txt\" data-tiara-custom=\"contentUniqueKey=hamny-20211111112700291\" data-tiara-id=\"20211111112700291\" data-tiara-layer=\"article\" data-tiara-ordnum=\"5\" data-tiara-type=\"harmony\" href=\"https://v.daum.net/v/20211111112700291\">\n",
              " <span class=\"num_news num5\">5 위</span>\n",
              "                         '정치 1번지' 종로 재보궐의 의미..대선 러닝메이트vs필승카드 [레이더P]\n",
              "                     </a>,\n",
              " <a class=\"link_more\" data-tiara-layer=\"more\" href=\"/ranking/kkomkkom/\">전체보기</a>,\n",
              " <a class=\"link_txt\" data-tiara-custom=\"contentUniqueKey=hamny-20211111161536454\" data-tiara-id=\"20211111161536454\" data-tiara-layer=\"article\" data-tiara-ordnum=\"1\" data-tiara-type=\"harmony\" href=\"https://news.v.daum.net/v/20211111161536454\">\n",
              " <span class=\"num_news num1\">1 위</span>\n",
              "                         이재명 지지율 고전에 내홍 생긴 민주당 \"이러다 제2의 정동영 사태 온다\"\n",
              "                     </a>,\n",
              " <a class=\"link_txt\" data-tiara-custom=\"contentUniqueKey=hamny-20211111144446827\" data-tiara-id=\"20211111144446827\" data-tiara-layer=\"article\" data-tiara-ordnum=\"2\" data-tiara-type=\"harmony\" href=\"https://news.v.daum.net/v/20211111144446827\">\n",
              " <span class=\"num_news num2\">2 위</span>\n",
              "                         前대통령 가상대결 박정희 47.3% vs 노무현 45.8%..朴호감도 '1위'\n",
              "                     </a>,\n",
              " <a class=\"link_txt\" data-tiara-custom=\"contentUniqueKey=hamny-20211111110212876\" data-tiara-id=\"20211111110212876\" data-tiara-layer=\"article\" data-tiara-ordnum=\"3\" data-tiara-type=\"harmony\" href=\"https://news.v.daum.net/v/20211111110212876\">\n",
              " <span class=\"num_news num3\">3 위</span>\n",
              "                         박주선 \"대부분의 광주시민들, 윤석열 사과 수용하고 발언 긍정적 평가\"\n",
              "                     </a>,\n",
              " <a class=\"link_txt\" data-tiara-custom=\"contentUniqueKey=hamny-20211111144447830\" data-tiara-id=\"20211111144447830\" data-tiara-layer=\"article\" data-tiara-ordnum=\"4\" data-tiara-type=\"harmony\" href=\"https://news.v.daum.net/v/20211111144447830\">\n",
              " <span class=\"num_news num4\">4 위</span>\n",
              "                         진중권, 윤석열 '반듯이' 논란에 \"이재명 캠프, 한글도 모르나\"\n",
              "                     </a>,\n",
              " <a class=\"link_txt\" data-tiara-custom=\"contentUniqueKey=hamny-20211111154855334\" data-tiara-id=\"20211111154855334\" data-tiara-layer=\"article\" data-tiara-ordnum=\"5\" data-tiara-type=\"harmony\" href=\"https://news.v.daum.net/v/20211111154855334\">\n",
              " <span class=\"num_news num5\">5 위</span>\n",
              "                         봉하마을 방명록에 \"보고 싶다\" 적은 윤석열, 권양숙은 못 만났다\n",
              "                     </a>,\n",
              " <a class=\"link_more\" data-tiara-layer=\"more\" href=\"/ranking/bestreply/\">전체보기</a>,\n",
              " <a class=\"link_txt\" data-tiara-custom=\"contentUniqueKey=hamny-20211110153912312\" data-tiara-id=\"20211110153912312\" data-tiara-layer=\"article\" data-tiara-ordnum=\"1\" data-tiara-type=\"harmony\" href=\"https://v.daum.net/v/20211110153912312\">\"고2 남자인데, 삶이 지루해요\"..14년만에 채택된 답변 화제</a>,\n",
              " <a class=\"link_txt\" data-tiara-custom=\"contentUniqueKey=hamny-20211111111503661\" data-tiara-id=\"20211111111503661\" data-tiara-layer=\"article\" data-tiara-ordnum=\"2\" data-tiara-type=\"harmony\" href=\"https://v.daum.net/v/20211111111503661\">[양담소] \"여자들 많은 운동동호회 나가던 남편이 이혼을 요구해요\"</a>,\n",
              " <a class=\"link_txt\" data-tiara-custom=\"contentUniqueKey=hamny-20211111173223317\" data-tiara-id=\"20211111173223317\" data-tiara-layer=\"article\" data-tiara-ordnum=\"3\" data-tiara-type=\"harmony\" href=\"https://v.daum.net/v/20211111173223317\">내일 전국 곳곳에 비·눈..찬바람에 체감기온 '뚝'</a>,\n",
              " <a class=\"link_txt\" data-tiara-custom=\"contentUniqueKey=hamny-20211111163355191\" data-tiara-id=\"20211111163355191\" data-tiara-layer=\"article\" data-tiara-ordnum=\"4\" data-tiara-type=\"harmony\" href=\"https://v.daum.net/v/20211111163355191\">정은경 \"일상회복 2단계 전환 어려울수도..방역조치 강화 가능\"(종합)</a>,\n",
              " <a class=\"link_txt\" data-tiara-custom=\"contentUniqueKey=hamny-20211111165700938\" data-tiara-id=\"20211111165700938\" data-tiara-layer=\"article\" data-tiara-ordnum=\"1\" data-tiara-type=\"harmony\" href=\"https://v.daum.net/v/20211111165700938\">[2022대선]'대선인기 못지않네'..거물급 출마설에 판 커진 '미니총선'</a>,\n",
              " <a class=\"link_txt\" data-tiara-custom=\"contentUniqueKey=hamny-20211111165638925\" data-tiara-id=\"20211111165638925\" data-tiara-layer=\"article\" data-tiara-ordnum=\"2\" data-tiara-type=\"harmony\" href=\"https://v.daum.net/v/20211111165638925\">\"일본 '싫어요', 독도 쯔양 테러\" 유튜브 오늘부터 없앤다</a>,\n",
              " <a class=\"link_txt\" data-tiara-custom=\"contentUniqueKey=hamny-20211111155601655\" data-tiara-id=\"20211111155601655\" data-tiara-layer=\"article\" data-tiara-ordnum=\"3\" data-tiara-type=\"harmony\" href=\"https://v.daum.net/v/20211111155601655\">[취재썰] 이재명은 대구서 18%, 윤석열은 광주서 15%..누가 더 긴장해야 할까</a>,\n",
              " <a class=\"link_txt\" data-tiara-custom=\"contentUniqueKey=hamny-20211111161536454\" data-tiara-id=\"20211111161536454\" data-tiara-layer=\"article\" data-tiara-ordnum=\"4\" data-tiara-type=\"harmony\" href=\"https://v.daum.net/v/20211111161536454\">이재명 지지율 고전에 내홍 생긴 민주당 \"이러다 제2의 정동영 사태 온다\"</a>,\n",
              " <a class=\"link_more\" data-tiara-layer=\"more\" href=\"/ranking/age/\">전체보기</a>,\n",
              " <a class=\"link_txt\" href=\"http://search.daum.net/search?w=tot&amp;DA=23Q&amp;rtmaxcoll=HSU&amp;q=코스피\" target=\"_blank\">코스피</a>,\n",
              " <a class=\"link_txt\" href=\"http://search.daum.net/search?w=tot&amp;DA=23Q&amp;rtmaxcoll=HSU&amp;q=코스피\" target=\"_blank\">2,924.92<span class=\"screen_out\">포인트</span></a>,\n",
              " <a class=\"link_txt\" href=\"http://search.daum.net/search?w=tot&amp;DA=23Q&amp;rtmaxcoll=HSU&amp;q=코스피\" target=\"_blank\">\n",
              " <span class=\"ico_news2 ico_down\">\n",
              "                                 5.25\n",
              "                         <span class=\"screen_out\">하락</span>\n",
              " </span>\n",
              " </a>,\n",
              " <a class=\"link_txt\" href=\"http://search.daum.net/search?w=tot&amp;DA=23Q&amp;rtmaxcoll=HSU&amp;q=코스피\" target=\"_blank\">-0.18% <span class=\"screen_out\">하락</span></a>,\n",
              " <a class=\"link_txt\" href=\"http://search.daum.net/search?w=tot&amp;DA=23Q&amp;rtmaxcoll=HSU&amp;q=코스닥\" target=\"_blank\">코스닥</a>,\n",
              " <a class=\"link_txt\" href=\"http://search.daum.net/search?w=tot&amp;DA=23Q&amp;rtmaxcoll=HSU&amp;q=코스닥\" target=\"_blank\">992.65<span class=\"screen_out\">포인트</span></a>,\n",
              " <a class=\"link_txt\" href=\"http://search.daum.net/search?w=tot&amp;DA=23Q&amp;rtmaxcoll=HSU&amp;q=코스닥\" target=\"_blank\">\n",
              " <span class=\"ico_news2 ico_up\">\n",
              "                                 4.90\n",
              "                         <span class=\"screen_out\">상승</span>\n",
              " </span>\n",
              " </a>,\n",
              " <a class=\"link_txt\" href=\"http://search.daum.net/search?w=tot&amp;DA=23Q&amp;rtmaxcoll=HSU&amp;q=코스닥\" target=\"_blank\">0.50% <span class=\"screen_out\">상승</span></a>,\n",
              " <a class=\"link_txt\" href=\"http://search.daum.net/search?w=tot&amp;DA=23Q&amp;rtmaxcoll=HSU&amp;q=다우\" target=\"_blank\">다우</a>,\n",
              " <a class=\"link_txt\" href=\"http://search.daum.net/search?w=tot&amp;DA=23Q&amp;rtmaxcoll=HSU&amp;q=다우\" target=\"_blank\">36,079.94<span class=\"screen_out\">포인트</span></a>,\n",
              " <a class=\"link_txt\" href=\"http://search.daum.net/search?w=tot&amp;DA=23Q&amp;rtmaxcoll=HSU&amp;q=다우\" target=\"_blank\">\n",
              " <span class=\"ico_news2 ico_down\">\n",
              "                                 240.04\n",
              "                         <span class=\"screen_out\">하락</span>\n",
              " </span>\n",
              " </a>,\n",
              " <a class=\"link_txt\" href=\"http://search.daum.net/search?w=tot&amp;DA=23Q&amp;rtmaxcoll=HSU&amp;q=다우\" target=\"_blank\">-0.66% <span class=\"screen_out\">하락</span></a>,\n",
              " <a class=\"link_today\" href=\"http://search.daum.net/search?w=tot&amp;DA=23Q&amp;rtmaxcoll=B3T&amp;q=tv+%ED%8E%B8%EC%84%B1%ED%91%9C\" target=\"_blank\"><span class=\"txt_news txt_tv\">TV 편성표</span></a>,\n",
              " <a class=\"link_today\" href=\"https://sports.daum.net/video/\" target=\"_blank\"><span class=\"txt_news txt_cast\">영상센터</span></a>,\n",
              " <a class=\"link_today\" href=\"http://search.daum.net/search?w=tot&amp;DA=23Q&amp;rtmaxcoll=UNS&amp;q=%EC%9A%B4%EC%84%B8\" target=\"_blank\"><span class=\"txt_news txt_fortune\">운세</span></a>,\n",
              " <a class=\"link_txt\" href=\"https://news.v.daum.net/v/20211111031831978\">[바로잡습니다] 11월 10일 자 A5면 '부·울·경 가는 이재명.. PK·2030·여성 3각 파도 넘겠다' 기사에서 외</a>,\n",
              " <a class=\"link_txt\" href=\"https://news.v.daum.net/v/20211110030444955\">[바로잡습니다] 11월 6일 자 B11면에 실린 '1958년, 열아홉 살 소년이 잉태한 2021년 누리호' 기사에서 외</a>,\n",
              " <a class=\"link_txt\" href=\"https://news.v.daum.net/v/20211103100412155\">「[단독]  구청에 설치된 '얼굴인식 체온측정기', 사진 갖다 대자..」 관련 정정보도문</a>,\n",
              " <a class=\"link_txt\" href=\"https://news.v.daum.net/v/20211103030539515\">[바로잡습니다] 일부 지역에 배달된 1일 자 A2면 '보령시 방범대엔 일본댁·옌볜댁' 기사에서</a>,\n",
              " <a class=\"link_more\" href=\"/info/correct\">더보기<span class=\"ico_news ico_arr\"></span></a>,\n",
              " <a class=\"link_txt #direct_newshome\" data-tiara-layer=\"direct_newshome\" href=\"/\">뉴스홈</a>,\n",
              " <a class=\"link_txt #direct_society\" data-tiara-layer=\"direct_society\" href=\"/society\" style=\"display: none;\">사회</a>,\n",
              " <a class=\"link_txt #direct_politics\" data-tiara-layer=\"direct_politics\" href=\"/politics\" style=\"display: none;\">정치</a>,\n",
              " <a class=\"link_txt #direct_economic\" data-tiara-layer=\"direct_economic\" href=\"/economic\" style=\"display: none;\">경제</a>,\n",
              " <a class=\"link_txt #direct_foreign\" data-tiara-layer=\"direct_foreign\" href=\"/foreign\" style=\"display: none;\">국제</a>,\n",
              " <a class=\"link_txt #direct_culture\" data-tiara-layer=\"direct_culture\" href=\"/culture\" style=\"display: none;\">문화</a>,\n",
              " <a class=\"link_txt #direct_digital\" data-tiara-layer=\"direct_digital\" href=\"/digital\" style=\"display: none;\">IT</a>,\n",
              " <a class=\"link_txt #direct_photo\" data-tiara-layer=\"direct_photo\" href=\"/photo\" style=\"display: none;\">포토</a>,\n",
              " <a class=\"link_txt #direct_tv\" data-tiara-layer=\"direct_tv\" href=\"/tv\" style=\"display: none;\">TV</a>,\n",
              " <a class=\"link_txt #direct_media\" data-tiara-layer=\"direct_media\" href=\"/cp\">언론사별 뉴스</a>,\n",
              " <a class=\"link_txt #direct_history\" data-tiara-layer=\"direct_history\" href=\"/newsbox\">배열이력</a>,\n",
              " <a class=\"link_txt #direct_all\" data-tiara-layer=\"direct_all\" href=\"/breakingnews\">전체뉴스</a>,\n",
              " <a class=\"link_txt #direct_rank\" data-tiara-layer=\"direct_rank\" href=\"/ranking/popular\" style=\"display: none;\">랭킹</a>,\n",
              " <a class=\"link_txt #direct_series\" data-tiara-layer=\"direct_series\" href=\"/series\" style=\"display: none;\">연재</a>,\n",
              " <a class=\"link_txt #direct_factcheck\" data-tiara-layer=\"direct_factcheck\" href=\"https://focus.daum.net/ch/news/factcheck\" style=\"display: none;\">팩트체크</a>,\n",
              " <a class=\"link_info #info_daumnews\" data-tiara-layer=\"info_daumnews\" href=\"/info/intro\">다음뉴스 소개</a>,\n",
              " <a class=\"link_info #notice\" data-tiara-layer=\"notice\" href=\"https://magazine.daum.net/daumnews_notice\">공지사항</a>,\n",
              " <a class=\"link_info #bbsrule\" data-tiara-layer=\"bbsrule\" href=\"/info/bbsrule\">게시물 운영원칙</a>,\n",
              " <a class=\"link_info #policy\" data-tiara-layer=\"policy\" href=\"http://policy.daum.net/info/info\">서비스 약관/정책</a>,\n",
              " <a class=\"link_info #harmony\" data-tiara-layer=\"harmony\" href=\"https://with.kakao.com/media\">뉴스제휴</a>,\n",
              " <a class=\"link_info #adinfo\" data-tiara-layer=\"adinfo\" href=\"https://business.kakao.com\">비즈니스</a>,\n",
              " <a class=\"link_info #redbell\" data-tiara-layer=\"redbell\" href=\"https://cs.daum.net/redbell/top.html\">권리침해신고</a>,\n",
              " <a class=\"link_info #consumer\" data-tiara-layer=\"consumer\" href=\"http://cs.daum.net/faq/63.html\">다음뉴스 고객센터</a>,\n",
              " <a class=\"link_info #newscenter\" data-tiara-layer=\"newscenter\" href=\"/info/newscenter24\">24시간 뉴스센터</a>,\n",
              " <a class=\"link_info #edit\" data-tiara-layer=\"edit\" href=\"/info/edit\">서비스원칙</a>,\n",
              " <a class=\"link_info #correct\" data-tiara-layer=\"correct\" href=\"/info/correct\">바로잡습니다</a>,\n",
              " <a class=\"link_kakao\" href=\"http://www.kakaocorp.com/\">Kakao Corp.</a>]"
            ]
          },
          "metadata": {},
          "execution_count": 17
        }
      ]
    },
    {
      "cell_type": "code",
      "metadata": {
        "colab": {
          "base_uri": "https://localhost:8080/"
        },
        "id": "Z__5N-55iFaC",
        "outputId": "162381cc-a085-446f-cce5-e73f47fe3bab"
      },
      "source": [
        "soup.find_all('a')[:5]"
      ],
      "execution_count": 18,
      "outputs": [
        {
          "output_type": "execute_result",
          "data": {
            "text/plain": [
              "[<a href=\"#kakaoBody\">본문 바로가기</a>,\n",
              " <a href=\"#kakaoGnb\">메뉴 바로가기</a>,\n",
              " <a data-tiara-layer=\"GNB default service_news\" href=\"https://news.daum.net/\" id=\"kakaoServiceLogo\"><span class=\"ir_wa\">뉴스</span></a>,\n",
              " <a class=\"link_services link_services1\" data-tiara-layer=\"service_enter\" href=\"https://entertain.daum.net\"><span class=\"ir_wa\">연예</span></a>,\n",
              " <a class=\"link_services link_services2\" data-tiara-layer=\"service_sports\" href=\"https://sports.daum.net\"><span class=\"ir_wa\">스포츠</span></a>]"
            ]
          },
          "metadata": {},
          "execution_count": 18
        }
      ]
    },
    {
      "cell_type": "code",
      "metadata": {
        "colab": {
          "base_uri": "https://localhost:8080/"
        },
        "id": "9W4wyzyIiSNd",
        "outputId": "d2cf74ae-9c05-4fdc-e64d-87df4a38d48b"
      },
      "source": [
        "for i in soup.find_all('a')[:5]:\n",
        "  print(i.get('href'))\n"
      ],
      "execution_count": 20,
      "outputs": [
        {
          "output_type": "stream",
          "name": "stdout",
          "text": [
            "#kakaoBody\n",
            "#kakaoGnb\n",
            "https://news.daum.net/\n",
            "https://entertain.daum.net\n",
            "https://sports.daum.net\n"
          ]
        }
      ]
    },
    {
      "cell_type": "code",
      "metadata": {
        "colab": {
          "base_uri": "https://localhost:8080/"
        },
        "id": "PZ8zYrmIioPr",
        "outputId": "ce67ace3-3d1e-4f48-d4e1-bc0bbaa63556"
      },
      "source": [
        "print('----------------------------------------------------복습')"
      ],
      "execution_count": 28,
      "outputs": [
        {
          "output_type": "stream",
          "name": "stdout",
          "text": [
            "----------------------------------------------------복습\n"
          ]
        }
      ]
    },
    {
      "cell_type": "code",
      "metadata": {
        "id": "jWYexLMri9Mi"
      },
      "source": [
        "news = 'https://news.daum.net/'\n",
        "soup = bs(ur.urlopen(news).read(), 'html.parser')"
      ],
      "execution_count": 23,
      "outputs": []
    },
    {
      "cell_type": "code",
      "metadata": {
        "colab": {
          "base_uri": "https://localhost:8080/",
          "height": 334
        },
        "id": "m5wsaMKhjJsi",
        "outputId": "2ed7e1f4-34fe-4362-860d-df08a8f66b55"
      },
      "source": [
        "for i in soup.find_all('div',{\"class\":\"item_issue\"}):\n",
        "  print(i.find_all('a').get('herf'))                  # find_all() 결과값이 리스트형이기 때문에 에러 발생"
      ],
      "execution_count": 25,
      "outputs": [
        {
          "output_type": "error",
          "ename": "AttributeError",
          "evalue": "ignored",
          "traceback": [
            "\u001b[0;31m---------------------------------------------------------------------------\u001b[0m",
            "\u001b[0;31mAttributeError\u001b[0m                            Traceback (most recent call last)",
            "\u001b[0;32m<ipython-input-25-d7c073ef8df6>\u001b[0m in \u001b[0;36m<module>\u001b[0;34m()\u001b[0m\n\u001b[1;32m      1\u001b[0m \u001b[0;32mfor\u001b[0m \u001b[0mi\u001b[0m \u001b[0;32min\u001b[0m \u001b[0msoup\u001b[0m\u001b[0;34m.\u001b[0m\u001b[0mfind_all\u001b[0m\u001b[0;34m(\u001b[0m\u001b[0;34m'div'\u001b[0m\u001b[0;34m,\u001b[0m\u001b[0;34m{\u001b[0m\u001b[0;34m\"class\"\u001b[0m\u001b[0;34m:\u001b[0m\u001b[0;34m\"item_issue\"\u001b[0m\u001b[0;34m}\u001b[0m\u001b[0;34m)\u001b[0m\u001b[0;34m:\u001b[0m\u001b[0;34m\u001b[0m\u001b[0;34m\u001b[0m\u001b[0m\n\u001b[0;32m----> 2\u001b[0;31m   \u001b[0mprint\u001b[0m\u001b[0;34m(\u001b[0m\u001b[0mi\u001b[0m\u001b[0;34m.\u001b[0m\u001b[0mfind_all\u001b[0m\u001b[0;34m(\u001b[0m\u001b[0;34m'a'\u001b[0m\u001b[0;34m)\u001b[0m\u001b[0;34m.\u001b[0m\u001b[0mget\u001b[0m\u001b[0;34m(\u001b[0m\u001b[0;34m'herf'\u001b[0m\u001b[0;34m)\u001b[0m\u001b[0;34m)\u001b[0m\u001b[0;34m\u001b[0m\u001b[0;34m\u001b[0m\u001b[0m\n\u001b[0m",
            "\u001b[0;32m/usr/local/lib/python3.7/dist-packages/bs4/element.py\u001b[0m in \u001b[0;36m__getattr__\u001b[0;34m(self, key)\u001b[0m\n\u001b[1;32m   1882\u001b[0m     \u001b[0;32mdef\u001b[0m \u001b[0m__getattr__\u001b[0m\u001b[0;34m(\u001b[0m\u001b[0mself\u001b[0m\u001b[0;34m,\u001b[0m \u001b[0mkey\u001b[0m\u001b[0;34m)\u001b[0m\u001b[0;34m:\u001b[0m\u001b[0;34m\u001b[0m\u001b[0;34m\u001b[0m\u001b[0m\n\u001b[1;32m   1883\u001b[0m         raise AttributeError(\n\u001b[0;32m-> 1884\u001b[0;31m             \u001b[0;34m\"ResultSet object has no attribute '%s'. You're probably treating a list of items like a single item. Did you call find_all() when you meant to call find()?\"\u001b[0m \u001b[0;34m%\u001b[0m \u001b[0mkey\u001b[0m\u001b[0;34m\u001b[0m\u001b[0;34m\u001b[0m\u001b[0m\n\u001b[0m\u001b[1;32m   1885\u001b[0m         )\n",
            "\u001b[0;31mAttributeError\u001b[0m: ResultSet object has no attribute 'get'. You're probably treating a list of items like a single item. Did you call find_all() when you meant to call find()?"
          ]
        }
      ]
    },
    {
      "cell_type": "code",
      "metadata": {
        "colab": {
          "base_uri": "https://localhost:8080/"
        },
        "id": "9lo_2kUajurx",
        "outputId": "cb8aae95-0692-4492-94a5-ba7594170809"
      },
      "source": [
        "for i in soup.find_all('div',{\"class\":\"item_issue\"}):\n",
        "  print(i.find_all('a')[0].get('href'))"
      ],
      "execution_count": 27,
      "outputs": [
        {
          "output_type": "stream",
          "name": "stdout",
          "text": [
            "https://news.v.daum.net/v/20211111193011845\n",
            "https://news.v.daum.net/v/20211111191928610\n",
            "https://news.v.daum.net/v/20211111171052503\n",
            "https://news.v.daum.net/v/20211111161500425\n"
          ]
        }
      ]
    },
    {
      "cell_type": "code",
      "metadata": {
        "id": "JgzWrQrWkC7R"
      },
      "source": [
        "# 1. soup 객체에서 class값이 item_issue 인 <div>를 find_all 가져온다.\n",
        "# 2. <div>객체에서 <a>태그들을 find_all 로 가져온다.\n",
        "# 3. <a>태그의 href 속성의 밸류값을 get 출력한다.\n",
        "\n",
        "# find_all 은 태그를 추출 / get은 태그 안의 속성값을 추출"
      ],
      "execution_count": null,
      "outputs": []
    },
    {
      "cell_type": "code",
      "metadata": {
        "colab": {
          "base_uri": "https://localhost:8080/"
        },
        "id": "2a73Yarrk-VF",
        "outputId": "6ab3bad1-3d9b-4b5d-fb4e-5c195582447d"
      },
      "source": [
        "print('--------------------------------------------------네이버')"
      ],
      "execution_count": 29,
      "outputs": [
        {
          "output_type": "stream",
          "name": "stdout",
          "text": [
            "--------------------------------------------------네이버\n"
          ]
        }
      ]
    },
    {
      "cell_type": "code",
      "metadata": {
        "id": "5Ie0bRDxl13K"
      },
      "source": [
        "# 네이버 뉴스 검색"
      ],
      "execution_count": 30,
      "outputs": []
    },
    {
      "cell_type": "code",
      "metadata": {
        "id": "xiBdmi51r33H"
      },
      "source": [
        "# # 원하는 정보를 추출해서 담을 변수 생성(딕셔너리)\n",
        "# news_dict = {}\n",
        "\n",
        "# # key 번호 / value 뉴스 기사 정보\n",
        "# idx = 0\n",
        "\n",
        "# #  현재 페이지, 기사의 수가 1페이지를 넘어가는 경우가 발생 가능\n",
        "# cur_page = 1"
      ],
      "execution_count": null,
      "outputs": []
    },
    {
      "cell_type": "code",
      "metadata": {
        "colab": {
          "base_uri": "https://localhost:8080/"
        },
        "id": "CV8bDMdCl_-A",
        "outputId": "53998c3e-fa95-45f8-965c-7279dcfd9507"
      },
      "source": [
        "import requests\n",
        "import re\n",
        "from pandas import DataFrame\n",
        "\n",
        "\n",
        "\n",
        "query = input('검색 키워드를 입력하세요 : ')\n",
        "news_num = int(input('총 필요한 뉴스기사 수를 입력해주세요(숫자만 입력) : '))\n",
        "query = query.replace(' ', '+')\n",
        "\n",
        "\n",
        "news_url = 'https://search.naver.com/search.naver?where=news&sm=tab_jum&query={}'\n",
        "\n",
        "req = requests.get(news_url.format(query))\n",
        "soup = bs(req.text, 'html.parser')\n",
        "\n",
        "\n",
        "news_dict = {}\n",
        "idx = 0\n",
        "cur_page = 1\n",
        "\n",
        "print()\n",
        "print('크롤링 중...')\n",
        "\n",
        "while idx < news_num:\n",
        "\n",
        "    \n",
        "    table = soup.find('ul',{'class' : 'list_news'})\n",
        "    li_list = table.find_all('li', {'id': re.compile('sp_nws.*')})\n",
        "    area_list = [li.find('div', {'class' : 'news_area'}) for li in li_list]\n",
        "    a_list = [area.find('a', {'class' : 'news_tit'}) for area in area_list]\n",
        "    \n",
        "    for n in a_list[:min(len(a_list), news_num-idx)]:\n",
        "        news_dict[idx] = {'title' : n.get('title'),\n",
        "                          'url' : n.get('href') }\n",
        "        idx += 1\n",
        "\n",
        "    cur_page += 1\n",
        "\n",
        "    pages = soup.find('div', {'class' : 'sc_page_inner'})\n",
        "    next_page_url = [p for p in pages.find_all('a') if p.text == str(cur_page)][0].get('href')\n",
        "    \n",
        "    req = requests.get('https://search.naver.com/search.naver' + next_page_url)\n",
        "    soup = bs(req.text, 'html.parser')\n",
        "\n",
        "print('크롤링 완료')\n",
        "\n",
        "print('데이터프레임 변환')\n",
        "news_df = DataFrame(news_dict).T\n",
        "\n",
        "news_df\n",
        "\n",
        "\n",
        "file_name = '네이버 뉴스_{}.xlsx'.format(query)\n",
        "news_df.to_excel(file_name)"
      ],
      "execution_count": 48,
      "outputs": [
        {
          "output_type": "stream",
          "name": "stdout",
          "text": [
            "검색 키워드를 입력하세요 : 코로나\n",
            "총 필요한 뉴스기사 수를 입력해주세요(숫자만 입력) : 50\n",
            "\n",
            "크롤링 중...\n",
            "크롤링 완료\n",
            "데이터프레임 변환\n"
          ]
        }
      ]
    }
  ]
}