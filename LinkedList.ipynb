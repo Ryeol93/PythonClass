{
  "nbformat": 4,
  "nbformat_minor": 0,
  "metadata": {
    "colab": {
      "name": "LinkedList.ipynb",
      "provenance": [],
      "mount_file_id": "1RIXfW5pTOkTIW2YaLD5OVK3ZMJV2H3aj",
      "authorship_tag": "ABX9TyNtP7Rg/ZZz2LiT0oG4rOgo",
      "include_colab_link": true
    },
    "kernelspec": {
      "name": "python3",
      "display_name": "Python 3"
    },
    "language_info": {
      "name": "python"
    }
  },
  "cells": [
    {
      "cell_type": "markdown",
      "metadata": {
        "id": "view-in-github",
        "colab_type": "text"
      },
      "source": [
        "<a href=\"https://colab.research.google.com/github/Ryeol93/PythonClass/blob/main/LinkedList.ipynb\" target=\"_parent\"><img src=\"https://colab.research.google.com/assets/colab-badge.svg\" alt=\"Open In Colab\"/></a>"
      ]
    },
    {
      "cell_type": "code",
      "metadata": {
        "id": "H-A7iRcwi75E"
      },
      "source": [
        "# 자료구조 \n",
        "\n",
        "# 단순구조 - 정수, 실수, 문자, 문자열\n",
        "# 선형구조 - 스택, 큐, 리스트, 연결리스트(Linked list. 파이썬에서는 사용안하지만, 다른언어에서는 중요)\n",
        "# 비선형구조 - 트리, 그래프\n",
        "# 파일구조 - 순차, 색인....\n",
        "\n",
        "# 리스트 - 연속적인 저장 형태 \n",
        "#          (배열- 크기가 정해진다, 변경 불가능\n",
        "#          리스트- 크기가 변하는 구조 )\n",
        "\n",
        "# 연결리스트 - 저장되는 각 데이터가 이전 데이터, 다음데이터를 가리키는 \n",
        "#              정보까지 포함한다. (데이터+다음데이터 포인터)\n",
        "\n",
        "    #   1,2,3,        4,5,6,        7,8,9\n",
        "    #               이전 포인터  이전포인터\n",
        "    #   데이터        데이터      데이터\n",
        "    # 다음포인터     다음포인터\n",
        "\n"
      ],
      "execution_count": null,
      "outputs": []
    },
    {
      "cell_type": "code",
      "metadata": {
        "id": "ARNJeF23tvPW"
      },
      "source": [
        "# 파이썬 연결리스트 자료구조 \n",
        "\n",
        "class Node: # 연결 리스트 구성의 실제 데이터 모습은 데이터 + 다음데이터포인터\n",
        "  def __init__(self, data, next=None):\n",
        "    self.data = data\n",
        "    self.next = next\n",
        "\n",
        "def init() : # 연결리스트를 만든다.  node1~ node4 연결포인터로 구성\n",
        "  global node1\n",
        "  node1 = Node(1)\n",
        "  node2 = Node(2)\n",
        "  node3 = Node(3)\n",
        "  node4 = Node(4)\n",
        "  node1.next = node2\n",
        "  node2.next = node3\n",
        "  node3.next = node4"
      ],
      "execution_count": null,
      "outputs": []
    },
    {
      "cell_type": "code",
      "metadata": {
        "colab": {
          "base_uri": "https://localhost:8080/"
        },
        "id": "vVpegMb1t1Df",
        "outputId": "3e461ab3-48f5-4fa3-e281-dc2be90dba22"
      },
      "source": [
        "# 스택(Last In First Out) \n",
        "\n",
        "def Stack() :\n",
        "  stack = []\n",
        "  stack.append(1)\n",
        "  stack.append(2)\n",
        "  stack.append(3)\n",
        "  stack.append(4)\n",
        "  stack.append(5)\n",
        "  print(stack)\n",
        "\n",
        "  while stack:\n",
        "    print(\"POP Value is \", stack.pop())\n",
        "Stack()"
      ],
      "execution_count": null,
      "outputs": [
        {
          "output_type": "stream",
          "name": "stdout",
          "text": [
            "[1, 2, 3, 4, 5]\n",
            "POP Value is  5\n",
            "POP Value is  4\n",
            "POP Value is  3\n",
            "POP Value is  2\n",
            "POP Value is  1\n"
          ]
        }
      ]
    },
    {
      "cell_type": "code",
      "metadata": {
        "colab": {
          "base_uri": "https://localhost:8080/",
          "height": 174
        },
        "id": "4dslnjpZrGjN",
        "outputId": "755a7142-1a05-49f5-8b7e-ed71f042cd66"
      },
      "source": [
        "k = ((a*b) - (c/d))"
      ],
      "execution_count": null,
      "outputs": [
        {
          "output_type": "error",
          "ename": "NameError",
          "evalue": "ignored",
          "traceback": [
            "\u001b[0;31m---------------------------------------------------------------------------\u001b[0m",
            "\u001b[0;31mNameError\u001b[0m                                 Traceback (most recent call last)",
            "\u001b[0;32m<ipython-input-6-c6bb1f735d32>\u001b[0m in \u001b[0;36m<module>\u001b[0;34m()\u001b[0m\n\u001b[0;32m----> 1\u001b[0;31m \u001b[0mk\u001b[0m \u001b[0;34m=\u001b[0m \u001b[0;34m(\u001b[0m\u001b[0;34m(\u001b[0m\u001b[0ma\u001b[0m\u001b[0;34m*\u001b[0m\u001b[0mb\u001b[0m\u001b[0;34m)\u001b[0m \u001b[0;34m-\u001b[0m \u001b[0;34m(\u001b[0m\u001b[0mc\u001b[0m\u001b[0;34m/\u001b[0m\u001b[0md\u001b[0m\u001b[0;34m)\u001b[0m\u001b[0;34m)\u001b[0m\u001b[0;34m\u001b[0m\u001b[0;34m\u001b[0m\u001b[0m\n\u001b[0m",
            "\u001b[0;31mNameError\u001b[0m: name 'a' is not defined"
          ]
        }
      ]
    },
    {
      "cell_type": "code",
      "metadata": {
        "colab": {
          "base_uri": "https://localhost:8080/",
          "height": 137
        },
        "id": "zbGLTR0Dt7Kh",
        "outputId": "560d8210-a061-4584-95d0-3bbe7c7db26f"
      },
      "source": [
        "step 1, a\n",
        "step 2, a b \n",
        "step 3, a b *\n",
        "step 4, a b * c\n",
        "step 5, a b * c d\n",
        "step 6, a b * c d /\n",
        "step 7, a b * c d / -"
      ],
      "execution_count": null,
      "outputs": [
        {
          "output_type": "error",
          "ename": "SyntaxError",
          "evalue": "ignored",
          "traceback": [
            "\u001b[0;36m  File \u001b[0;32m\"<ipython-input-7-0c3dd8632088>\"\u001b[0;36m, line \u001b[0;32m1\u001b[0m\n\u001b[0;31m    step 1, a\u001b[0m\n\u001b[0m         ^\u001b[0m\n\u001b[0;31mSyntaxError\u001b[0m\u001b[0;31m:\u001b[0m invalid syntax\n"
          ]
        }
      ]
    },
    {
      "cell_type": "code",
      "metadata": {
        "id": "gF5Giny4r04h"
      },
      "source": [
        "a b * c d / -   \n",
        "\n",
        "a b     # a를 스택에 push 하고, b를 스택에 push 한다.\n",
        "\n",
        "* -> x  # *를 만나면 b스택에서 pop하고 a를 스택에서 pop한다음 *한 결과(x)를 다시 스택에 넣는다.\n",
        "\n",
        "x c d   # c와 d를 스택 push / d c 를 pop한 후 c/d 연산 수행 결과(y)를  push\n",
        "\n",
        "x y     # y와 x를 pop한다음 연산 -를 수행(x-y)하고 그  결과 z push 스택에 넣는다."
      ],
      "execution_count": null,
      "outputs": []
    },
    {
      "cell_type": "code",
      "metadata": {
        "colab": {
          "base_uri": "https://localhost:8080/"
        },
        "id": "YbDj_dnyxwl_",
        "outputId": "e0a2896c-a2ca-4a23-a968-b7048a377b76"
      },
      "source": [
        "# 파이썬 연결리스트 자료구조 \n",
        "\n",
        "class Node: # 연결 리스트 구성의 실제 데이터 모습은 데이터 + 다음데이터포인터\n",
        "  def __init__(self, data, next=None):    # 다음 주소 초기값을 None\n",
        "    self.data = data\n",
        "    self.next = next\n",
        "\n",
        "\n",
        "\n",
        "node1 = Node(1)   # data = 1\n",
        "\n",
        "print(node1.data)\n",
        "print(node1.next)"
      ],
      "execution_count": null,
      "outputs": [
        {
          "output_type": "stream",
          "name": "stdout",
          "text": [
            "1\n",
            "None\n"
          ]
        }
      ]
    },
    {
      "cell_type": "code",
      "metadata": {
        "colab": {
          "base_uri": "https://localhost:8080/"
        },
        "id": "gwrmN96qyOJ8",
        "outputId": "b48a1822-55f8-4b05-8834-3441d7cecdb3"
      },
      "source": [
        "node2 = Node(3)\n",
        "\n",
        "print(node2.data)\n",
        "print(node2.next)\n",
        "\n",
        "node1.next = node2"
      ],
      "execution_count": null,
      "outputs": [
        {
          "output_type": "stream",
          "name": "stdout",
          "text": [
            "3\n",
            "None\n"
          ]
        }
      ]
    },
    {
      "cell_type": "code",
      "metadata": {
        "colab": {
          "base_uri": "https://localhost:8080/"
        },
        "id": "QEu1E_JWyzfS",
        "outputId": "447b99fc-6ea2-4a72-9f9a-0e1c91797b4b"
      },
      "source": [
        "print(node1.data)\n",
        "print(node1.next)"
      ],
      "execution_count": null,
      "outputs": [
        {
          "output_type": "stream",
          "name": "stdout",
          "text": [
            "1\n",
            "<__main__.Node object at 0x7f8f682930d0>\n"
          ]
        }
      ]
    },
    {
      "cell_type": "code",
      "metadata": {
        "colab": {
          "base_uri": "https://localhost:8080/"
        },
        "id": "bpvVuWXOzE0v",
        "outputId": "b0d02052-1fe8-40a3-b335-7779f7cb355f"
      },
      "source": [
        "print(node1.next.data)    # node1.next = node2 이므로\n",
        "print(node2.data)"
      ],
      "execution_count": null,
      "outputs": [
        {
          "output_type": "stream",
          "name": "stdout",
          "text": [
            "3\n",
            "3\n"
          ]
        }
      ]
    },
    {
      "cell_type": "code",
      "metadata": {
        "colab": {
          "base_uri": "https://localhost:8080/"
        },
        "id": "fXWgYjqgzToj",
        "outputId": "7c3b1faa-b70a-4e2a-f880-554d485de1f6"
      },
      "source": [
        "class Node:\n",
        "  def __init__(self, data, next = None):\n",
        "    self.data = data\n",
        "    self.next = next\n",
        "\n",
        "\n",
        "def add(data):\n",
        "  node = head\n",
        "  while node.next:    # node의 next가 있을 경우만 실행\n",
        "    node = node.next    # 다음 노드가 잇는지 계속 반복\n",
        "  node.next = Node(data)  # 다음 노드가 없을 경우 새로운 노드 생성\n",
        "  \n",
        "node1 = Node(1)\n",
        "head = node1\n",
        "\n",
        "add(3)\n",
        "print(node1.next.data)"
      ],
      "execution_count": null,
      "outputs": [
        {
          "output_type": "stream",
          "name": "stdout",
          "text": [
            "3\n"
          ]
        }
      ]
    },
    {
      "cell_type": "code",
      "metadata": {
        "id": "sgiwnUfj18HK"
      },
      "source": [
        "add(4)\n",
        "add(5)"
      ],
      "execution_count": null,
      "outputs": []
    },
    {
      "cell_type": "code",
      "metadata": {
        "colab": {
          "base_uri": "https://localhost:8080/"
        },
        "id": "lA-KOQ3s2hA7",
        "outputId": "ccb9c66b-4922-450f-ff9b-3a25b8e192db"
      },
      "source": [
        "node = head\n",
        "while node.next:  #있는 경우만 실행\n",
        "  print(node.data)\n",
        "  node= node.next\n",
        "\n",
        "print(node.data)"
      ],
      "execution_count": null,
      "outputs": [
        {
          "output_type": "stream",
          "name": "stdout",
          "text": [
            "1\n",
            "3\n",
            "4\n",
            "5\n"
          ]
        }
      ]
    },
    {
      "cell_type": "code",
      "metadata": {
        "id": "Fx_HJ_I929Nz"
      },
      "source": [
        ""
      ],
      "execution_count": null,
      "outputs": []
    }
  ]
}