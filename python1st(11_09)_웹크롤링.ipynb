{
  "nbformat": 4,
  "nbformat_minor": 0,
  "metadata": {
    "colab": {
      "name": "python1st(11.09)-웹크롤링.ipynb",
      "provenance": [],
      "authorship_tag": "ABX9TyNTWn02vzqG/qzLQyObtFDE",
      "include_colab_link": true
    },
    "kernelspec": {
      "name": "python3",
      "display_name": "Python 3"
    },
    "language_info": {
      "name": "python"
    }
  },
  "cells": [
    {
      "cell_type": "markdown",
      "metadata": {
        "id": "view-in-github",
        "colab_type": "text"
      },
      "source": [
        "<a href=\"https://colab.research.google.com/github/Ryeol93/PythonClass/blob/main/python1st(11_09)_%EC%9B%B9%ED%81%AC%EB%A1%A4%EB%A7%81.ipynb\" target=\"_parent\"><img src=\"https://colab.research.google.com/assets/colab-badge.svg\" alt=\"Open In Colab\"/></a>"
      ]
    },
    {
      "cell_type": "code",
      "metadata": {
        "id": "Zg6J37bje36G"
      },
      "source": [
        "# 웹 크롤링\n",
        "# 인터넷에서 정보를 수집하여 분석\n",
        "# HTML, CSS, Java Script\n",
        "\n",
        "# 명언 수집.\n",
        "# quotes.toscrape.com\n",
        "\n",
        "# 1. 웹페이지를 불러온다.\n",
        "# 2. 크롤링 원하는 위치를 찾는다.\n",
        "# 3. 원하는 내용을 찾아서 출력한다.\n"
      ],
      "execution_count": 1,
      "outputs": []
    },
    {
      "cell_type": "code",
      "metadata": {
        "id": "LGlMW7FAe_ZN"
      },
      "source": [
        "import re # 정규표현식 (레귤러익스플래스)\n",
        "import os # 시스템 관련\n",
        "# import requests # 웹 연결\n",
        "\n",
        "\n",
        "import urllib.request as ur # 웹에서 가져온 데이터 다루기\n",
        "from bs4 import BeautifulSoup as bs # 가져온 데이터를 분석이 용이하게 정리"
      ],
      "execution_count": 2,
      "outputs": []
    },
    {
      "cell_type": "code",
      "metadata": {
        "colab": {
          "base_uri": "https://localhost:8080/"
        },
        "id": "5T8j4-sHe8Za",
        "outputId": "7de9a70f-7643-493c-d974-1736167efadf"
      },
      "source": [
        "url = \"https://quotes.toscrape.com/\"\n",
        "\n",
        "html = ur.urlopen(url)\n",
        "\n",
        "html"
      ],
      "execution_count": 3,
      "outputs": [
        {
          "output_type": "execute_result",
          "data": {
            "text/plain": [
              "<http.client.HTTPResponse at 0x7f04a89e3c90>"
            ]
          },
          "metadata": {},
          "execution_count": 3
        }
      ]
    },
    {
      "cell_type": "code",
      "metadata": {
        "colab": {
          "base_uri": "https://localhost:8080/"
        },
        "id": "gi9twZNlfBs_",
        "outputId": "daad1733-9699-4abb-dfba-59ccc0d75dc1"
      },
      "source": [
        "html.read()[:400]"
      ],
      "execution_count": 4,
      "outputs": [
        {
          "output_type": "execute_result",
          "data": {
            "text/plain": [
              "b'<!DOCTYPE html>\\n<html lang=\"en\">\\n<head>\\n\\t<meta charset=\"UTF-8\">\\n\\t<title>Quotes to Scrape</title>\\n    <link rel=\"stylesheet\" href=\"/static/bootstrap.min.css\">\\n    <link rel=\"stylesheet\" href=\"/static/main.css\">\\n</head>\\n<body>\\n    <div class=\"container\">\\n        <div class=\"row header-box\">\\n            <div class=\"col-md-8\">\\n                <h1>\\n                    <a href=\"/\" style=\"text-decoration'"
            ]
          },
          "metadata": {},
          "execution_count": 4
        }
      ]
    },
    {
      "cell_type": "code",
      "metadata": {
        "colab": {
          "base_uri": "https://localhost:8080/"
        },
        "id": "YqhxgvM-fDEc",
        "outputId": "49d127eb-d337-4054-9873-a1393afe6e1f"
      },
      "source": [
        "url = \"https://quotes.toscrape.com/\"\n",
        "\n",
        "html = ur.urlopen(url)\n",
        "\n",
        "soup = bs(html.read(),'html.parser') # html 로 바꿔주는것\n",
        "\n",
        "print(soup)"
      ],
      "execution_count": 5,
      "outputs": [
        {
          "output_type": "stream",
          "name": "stdout",
          "text": [
            "<!DOCTYPE html>\n",
            "\n",
            "<html lang=\"en\">\n",
            "<head>\n",
            "<meta charset=\"utf-8\"/>\n",
            "<title>Quotes to Scrape</title>\n",
            "<link href=\"/static/bootstrap.min.css\" rel=\"stylesheet\"/>\n",
            "<link href=\"/static/main.css\" rel=\"stylesheet\"/>\n",
            "</head>\n",
            "<body>\n",
            "<div class=\"container\">\n",
            "<div class=\"row header-box\">\n",
            "<div class=\"col-md-8\">\n",
            "<h1>\n",
            "<a href=\"/\" style=\"text-decoration: none\">Quotes to Scrape</a>\n",
            "</h1>\n",
            "</div>\n",
            "<div class=\"col-md-4\">\n",
            "<p>\n",
            "<a href=\"/login\">Login</a>\n",
            "</p>\n",
            "</div>\n",
            "</div>\n",
            "<div class=\"row\">\n",
            "<div class=\"col-md-8\">\n",
            "<div class=\"quote\" itemscope=\"\" itemtype=\"http://schema.org/CreativeWork\">\n",
            "<span class=\"text\" itemprop=\"text\">“The world as we have created it is a process of our thinking. It cannot be changed without changing our thinking.”</span>\n",
            "<span>by <small class=\"author\" itemprop=\"author\">Albert Einstein</small>\n",
            "<a href=\"/author/Albert-Einstein\">(about)</a>\n",
            "</span>\n",
            "<div class=\"tags\">\n",
            "            Tags:\n",
            "            <meta class=\"keywords\" content=\"change,deep-thoughts,thinking,world\" itemprop=\"keywords\"/>\n",
            "<a class=\"tag\" href=\"/tag/change/page/1/\">change</a>\n",
            "<a class=\"tag\" href=\"/tag/deep-thoughts/page/1/\">deep-thoughts</a>\n",
            "<a class=\"tag\" href=\"/tag/thinking/page/1/\">thinking</a>\n",
            "<a class=\"tag\" href=\"/tag/world/page/1/\">world</a>\n",
            "</div>\n",
            "</div>\n",
            "<div class=\"quote\" itemscope=\"\" itemtype=\"http://schema.org/CreativeWork\">\n",
            "<span class=\"text\" itemprop=\"text\">“It is our choices, Harry, that show what we truly are, far more than our abilities.”</span>\n",
            "<span>by <small class=\"author\" itemprop=\"author\">J.K. Rowling</small>\n",
            "<a href=\"/author/J-K-Rowling\">(about)</a>\n",
            "</span>\n",
            "<div class=\"tags\">\n",
            "            Tags:\n",
            "            <meta class=\"keywords\" content=\"abilities,choices\" itemprop=\"keywords\"/>\n",
            "<a class=\"tag\" href=\"/tag/abilities/page/1/\">abilities</a>\n",
            "<a class=\"tag\" href=\"/tag/choices/page/1/\">choices</a>\n",
            "</div>\n",
            "</div>\n",
            "<div class=\"quote\" itemscope=\"\" itemtype=\"http://schema.org/CreativeWork\">\n",
            "<span class=\"text\" itemprop=\"text\">“There are only two ways to live your life. One is as though nothing is a miracle. The other is as though everything is a miracle.”</span>\n",
            "<span>by <small class=\"author\" itemprop=\"author\">Albert Einstein</small>\n",
            "<a href=\"/author/Albert-Einstein\">(about)</a>\n",
            "</span>\n",
            "<div class=\"tags\">\n",
            "            Tags:\n",
            "            <meta class=\"keywords\" content=\"inspirational,life,live,miracle,miracles\" itemprop=\"keywords\"/>\n",
            "<a class=\"tag\" href=\"/tag/inspirational/page/1/\">inspirational</a>\n",
            "<a class=\"tag\" href=\"/tag/life/page/1/\">life</a>\n",
            "<a class=\"tag\" href=\"/tag/live/page/1/\">live</a>\n",
            "<a class=\"tag\" href=\"/tag/miracle/page/1/\">miracle</a>\n",
            "<a class=\"tag\" href=\"/tag/miracles/page/1/\">miracles</a>\n",
            "</div>\n",
            "</div>\n",
            "<div class=\"quote\" itemscope=\"\" itemtype=\"http://schema.org/CreativeWork\">\n",
            "<span class=\"text\" itemprop=\"text\">“The person, be it gentleman or lady, who has not pleasure in a good novel, must be intolerably stupid.”</span>\n",
            "<span>by <small class=\"author\" itemprop=\"author\">Jane Austen</small>\n",
            "<a href=\"/author/Jane-Austen\">(about)</a>\n",
            "</span>\n",
            "<div class=\"tags\">\n",
            "            Tags:\n",
            "            <meta class=\"keywords\" content=\"aliteracy,books,classic,humor\" itemprop=\"keywords\"/>\n",
            "<a class=\"tag\" href=\"/tag/aliteracy/page/1/\">aliteracy</a>\n",
            "<a class=\"tag\" href=\"/tag/books/page/1/\">books</a>\n",
            "<a class=\"tag\" href=\"/tag/classic/page/1/\">classic</a>\n",
            "<a class=\"tag\" href=\"/tag/humor/page/1/\">humor</a>\n",
            "</div>\n",
            "</div>\n",
            "<div class=\"quote\" itemscope=\"\" itemtype=\"http://schema.org/CreativeWork\">\n",
            "<span class=\"text\" itemprop=\"text\">“Imperfection is beauty, madness is genius and it's better to be absolutely ridiculous than absolutely boring.”</span>\n",
            "<span>by <small class=\"author\" itemprop=\"author\">Marilyn Monroe</small>\n",
            "<a href=\"/author/Marilyn-Monroe\">(about)</a>\n",
            "</span>\n",
            "<div class=\"tags\">\n",
            "            Tags:\n",
            "            <meta class=\"keywords\" content=\"be-yourself,inspirational\" itemprop=\"keywords\"/>\n",
            "<a class=\"tag\" href=\"/tag/be-yourself/page/1/\">be-yourself</a>\n",
            "<a class=\"tag\" href=\"/tag/inspirational/page/1/\">inspirational</a>\n",
            "</div>\n",
            "</div>\n",
            "<div class=\"quote\" itemscope=\"\" itemtype=\"http://schema.org/CreativeWork\">\n",
            "<span class=\"text\" itemprop=\"text\">“Try not to become a man of success. Rather become a man of value.”</span>\n",
            "<span>by <small class=\"author\" itemprop=\"author\">Albert Einstein</small>\n",
            "<a href=\"/author/Albert-Einstein\">(about)</a>\n",
            "</span>\n",
            "<div class=\"tags\">\n",
            "            Tags:\n",
            "            <meta class=\"keywords\" content=\"adulthood,success,value\" itemprop=\"keywords\"/>\n",
            "<a class=\"tag\" href=\"/tag/adulthood/page/1/\">adulthood</a>\n",
            "<a class=\"tag\" href=\"/tag/success/page/1/\">success</a>\n",
            "<a class=\"tag\" href=\"/tag/value/page/1/\">value</a>\n",
            "</div>\n",
            "</div>\n",
            "<div class=\"quote\" itemscope=\"\" itemtype=\"http://schema.org/CreativeWork\">\n",
            "<span class=\"text\" itemprop=\"text\">“It is better to be hated for what you are than to be loved for what you are not.”</span>\n",
            "<span>by <small class=\"author\" itemprop=\"author\">André Gide</small>\n",
            "<a href=\"/author/Andre-Gide\">(about)</a>\n",
            "</span>\n",
            "<div class=\"tags\">\n",
            "            Tags:\n",
            "            <meta class=\"keywords\" content=\"life,love\" itemprop=\"keywords\"/>\n",
            "<a class=\"tag\" href=\"/tag/life/page/1/\">life</a>\n",
            "<a class=\"tag\" href=\"/tag/love/page/1/\">love</a>\n",
            "</div>\n",
            "</div>\n",
            "<div class=\"quote\" itemscope=\"\" itemtype=\"http://schema.org/CreativeWork\">\n",
            "<span class=\"text\" itemprop=\"text\">“I have not failed. I've just found 10,000 ways that won't work.”</span>\n",
            "<span>by <small class=\"author\" itemprop=\"author\">Thomas A. Edison</small>\n",
            "<a href=\"/author/Thomas-A-Edison\">(about)</a>\n",
            "</span>\n",
            "<div class=\"tags\">\n",
            "            Tags:\n",
            "            <meta class=\"keywords\" content=\"edison,failure,inspirational,paraphrased\" itemprop=\"keywords\"/>\n",
            "<a class=\"tag\" href=\"/tag/edison/page/1/\">edison</a>\n",
            "<a class=\"tag\" href=\"/tag/failure/page/1/\">failure</a>\n",
            "<a class=\"tag\" href=\"/tag/inspirational/page/1/\">inspirational</a>\n",
            "<a class=\"tag\" href=\"/tag/paraphrased/page/1/\">paraphrased</a>\n",
            "</div>\n",
            "</div>\n",
            "<div class=\"quote\" itemscope=\"\" itemtype=\"http://schema.org/CreativeWork\">\n",
            "<span class=\"text\" itemprop=\"text\">“A woman is like a tea bag; you never know how strong it is until it's in hot water.”</span>\n",
            "<span>by <small class=\"author\" itemprop=\"author\">Eleanor Roosevelt</small>\n",
            "<a href=\"/author/Eleanor-Roosevelt\">(about)</a>\n",
            "</span>\n",
            "<div class=\"tags\">\n",
            "            Tags:\n",
            "            <meta class=\"keywords\" content=\"misattributed-eleanor-roosevelt\" itemprop=\"keywords\"/>\n",
            "<a class=\"tag\" href=\"/tag/misattributed-eleanor-roosevelt/page/1/\">misattributed-eleanor-roosevelt</a>\n",
            "</div>\n",
            "</div>\n",
            "<div class=\"quote\" itemscope=\"\" itemtype=\"http://schema.org/CreativeWork\">\n",
            "<span class=\"text\" itemprop=\"text\">“A day without sunshine is like, you know, night.”</span>\n",
            "<span>by <small class=\"author\" itemprop=\"author\">Steve Martin</small>\n",
            "<a href=\"/author/Steve-Martin\">(about)</a>\n",
            "</span>\n",
            "<div class=\"tags\">\n",
            "            Tags:\n",
            "            <meta class=\"keywords\" content=\"humor,obvious,simile\" itemprop=\"keywords\"/>\n",
            "<a class=\"tag\" href=\"/tag/humor/page/1/\">humor</a>\n",
            "<a class=\"tag\" href=\"/tag/obvious/page/1/\">obvious</a>\n",
            "<a class=\"tag\" href=\"/tag/simile/page/1/\">simile</a>\n",
            "</div>\n",
            "</div>\n",
            "<nav>\n",
            "<ul class=\"pager\">\n",
            "<li class=\"next\">\n",
            "<a href=\"/page/2/\">Next <span aria-hidden=\"true\">→</span></a>\n",
            "</li>\n",
            "</ul>\n",
            "</nav>\n",
            "</div>\n",
            "<div class=\"col-md-4 tags-box\">\n",
            "<h2>Top Ten tags</h2>\n",
            "<span class=\"tag-item\">\n",
            "<a class=\"tag\" href=\"/tag/love/\" style=\"font-size: 28px\">love</a>\n",
            "</span>\n",
            "<span class=\"tag-item\">\n",
            "<a class=\"tag\" href=\"/tag/inspirational/\" style=\"font-size: 26px\">inspirational</a>\n",
            "</span>\n",
            "<span class=\"tag-item\">\n",
            "<a class=\"tag\" href=\"/tag/life/\" style=\"font-size: 26px\">life</a>\n",
            "</span>\n",
            "<span class=\"tag-item\">\n",
            "<a class=\"tag\" href=\"/tag/humor/\" style=\"font-size: 24px\">humor</a>\n",
            "</span>\n",
            "<span class=\"tag-item\">\n",
            "<a class=\"tag\" href=\"/tag/books/\" style=\"font-size: 22px\">books</a>\n",
            "</span>\n",
            "<span class=\"tag-item\">\n",
            "<a class=\"tag\" href=\"/tag/reading/\" style=\"font-size: 14px\">reading</a>\n",
            "</span>\n",
            "<span class=\"tag-item\">\n",
            "<a class=\"tag\" href=\"/tag/friendship/\" style=\"font-size: 10px\">friendship</a>\n",
            "</span>\n",
            "<span class=\"tag-item\">\n",
            "<a class=\"tag\" href=\"/tag/friends/\" style=\"font-size: 8px\">friends</a>\n",
            "</span>\n",
            "<span class=\"tag-item\">\n",
            "<a class=\"tag\" href=\"/tag/truth/\" style=\"font-size: 8px\">truth</a>\n",
            "</span>\n",
            "<span class=\"tag-item\">\n",
            "<a class=\"tag\" href=\"/tag/simile/\" style=\"font-size: 6px\">simile</a>\n",
            "</span>\n",
            "</div>\n",
            "</div>\n",
            "</div>\n",
            "<footer class=\"footer\">\n",
            "<div class=\"container\">\n",
            "<p class=\"text-muted\">\n",
            "                Quotes by: <a href=\"https://www.goodreads.com/quotes\">GoodReads.com</a>\n",
            "</p>\n",
            "<p class=\"copyright\">\n",
            "                Made with <span class=\"sh-red\">❤</span> by <a href=\"https://scrapinghub.com\">Scrapinghub</a>\n",
            "</p>\n",
            "</div>\n",
            "</footer>\n",
            "</body>\n",
            "</html>\n"
          ]
        }
      ]
    },
    {
      "cell_type": "code",
      "metadata": {
        "colab": {
          "base_uri": "https://localhost:8080/"
        },
        "id": "Sj8XIhozfFQB",
        "outputId": "b0919da5-b79c-41d0-90ff-71b6d2aef3b2"
      },
      "source": [
        "print(bs(ur.urlopen('http://quotes.toscrape.com/').read(),'html.parser')) # 위에꺼 한줄로 요약해서 쓴거\n"
      ],
      "execution_count": 6,
      "outputs": [
        {
          "output_type": "stream",
          "name": "stdout",
          "text": [
            "<!DOCTYPE html>\n",
            "\n",
            "<html lang=\"en\">\n",
            "<head>\n",
            "<meta charset=\"utf-8\"/>\n",
            "<title>Quotes to Scrape</title>\n",
            "<link href=\"/static/bootstrap.min.css\" rel=\"stylesheet\"/>\n",
            "<link href=\"/static/main.css\" rel=\"stylesheet\"/>\n",
            "</head>\n",
            "<body>\n",
            "<div class=\"container\">\n",
            "<div class=\"row header-box\">\n",
            "<div class=\"col-md-8\">\n",
            "<h1>\n",
            "<a href=\"/\" style=\"text-decoration: none\">Quotes to Scrape</a>\n",
            "</h1>\n",
            "</div>\n",
            "<div class=\"col-md-4\">\n",
            "<p>\n",
            "<a href=\"/login\">Login</a>\n",
            "</p>\n",
            "</div>\n",
            "</div>\n",
            "<div class=\"row\">\n",
            "<div class=\"col-md-8\">\n",
            "<div class=\"quote\" itemscope=\"\" itemtype=\"http://schema.org/CreativeWork\">\n",
            "<span class=\"text\" itemprop=\"text\">“The world as we have created it is a process of our thinking. It cannot be changed without changing our thinking.”</span>\n",
            "<span>by <small class=\"author\" itemprop=\"author\">Albert Einstein</small>\n",
            "<a href=\"/author/Albert-Einstein\">(about)</a>\n",
            "</span>\n",
            "<div class=\"tags\">\n",
            "            Tags:\n",
            "            <meta class=\"keywords\" content=\"change,deep-thoughts,thinking,world\" itemprop=\"keywords\"/>\n",
            "<a class=\"tag\" href=\"/tag/change/page/1/\">change</a>\n",
            "<a class=\"tag\" href=\"/tag/deep-thoughts/page/1/\">deep-thoughts</a>\n",
            "<a class=\"tag\" href=\"/tag/thinking/page/1/\">thinking</a>\n",
            "<a class=\"tag\" href=\"/tag/world/page/1/\">world</a>\n",
            "</div>\n",
            "</div>\n",
            "<div class=\"quote\" itemscope=\"\" itemtype=\"http://schema.org/CreativeWork\">\n",
            "<span class=\"text\" itemprop=\"text\">“It is our choices, Harry, that show what we truly are, far more than our abilities.”</span>\n",
            "<span>by <small class=\"author\" itemprop=\"author\">J.K. Rowling</small>\n",
            "<a href=\"/author/J-K-Rowling\">(about)</a>\n",
            "</span>\n",
            "<div class=\"tags\">\n",
            "            Tags:\n",
            "            <meta class=\"keywords\" content=\"abilities,choices\" itemprop=\"keywords\"/>\n",
            "<a class=\"tag\" href=\"/tag/abilities/page/1/\">abilities</a>\n",
            "<a class=\"tag\" href=\"/tag/choices/page/1/\">choices</a>\n",
            "</div>\n",
            "</div>\n",
            "<div class=\"quote\" itemscope=\"\" itemtype=\"http://schema.org/CreativeWork\">\n",
            "<span class=\"text\" itemprop=\"text\">“There are only two ways to live your life. One is as though nothing is a miracle. The other is as though everything is a miracle.”</span>\n",
            "<span>by <small class=\"author\" itemprop=\"author\">Albert Einstein</small>\n",
            "<a href=\"/author/Albert-Einstein\">(about)</a>\n",
            "</span>\n",
            "<div class=\"tags\">\n",
            "            Tags:\n",
            "            <meta class=\"keywords\" content=\"inspirational,life,live,miracle,miracles\" itemprop=\"keywords\"/>\n",
            "<a class=\"tag\" href=\"/tag/inspirational/page/1/\">inspirational</a>\n",
            "<a class=\"tag\" href=\"/tag/life/page/1/\">life</a>\n",
            "<a class=\"tag\" href=\"/tag/live/page/1/\">live</a>\n",
            "<a class=\"tag\" href=\"/tag/miracle/page/1/\">miracle</a>\n",
            "<a class=\"tag\" href=\"/tag/miracles/page/1/\">miracles</a>\n",
            "</div>\n",
            "</div>\n",
            "<div class=\"quote\" itemscope=\"\" itemtype=\"http://schema.org/CreativeWork\">\n",
            "<span class=\"text\" itemprop=\"text\">“The person, be it gentleman or lady, who has not pleasure in a good novel, must be intolerably stupid.”</span>\n",
            "<span>by <small class=\"author\" itemprop=\"author\">Jane Austen</small>\n",
            "<a href=\"/author/Jane-Austen\">(about)</a>\n",
            "</span>\n",
            "<div class=\"tags\">\n",
            "            Tags:\n",
            "            <meta class=\"keywords\" content=\"aliteracy,books,classic,humor\" itemprop=\"keywords\"/>\n",
            "<a class=\"tag\" href=\"/tag/aliteracy/page/1/\">aliteracy</a>\n",
            "<a class=\"tag\" href=\"/tag/books/page/1/\">books</a>\n",
            "<a class=\"tag\" href=\"/tag/classic/page/1/\">classic</a>\n",
            "<a class=\"tag\" href=\"/tag/humor/page/1/\">humor</a>\n",
            "</div>\n",
            "</div>\n",
            "<div class=\"quote\" itemscope=\"\" itemtype=\"http://schema.org/CreativeWork\">\n",
            "<span class=\"text\" itemprop=\"text\">“Imperfection is beauty, madness is genius and it's better to be absolutely ridiculous than absolutely boring.”</span>\n",
            "<span>by <small class=\"author\" itemprop=\"author\">Marilyn Monroe</small>\n",
            "<a href=\"/author/Marilyn-Monroe\">(about)</a>\n",
            "</span>\n",
            "<div class=\"tags\">\n",
            "            Tags:\n",
            "            <meta class=\"keywords\" content=\"be-yourself,inspirational\" itemprop=\"keywords\"/>\n",
            "<a class=\"tag\" href=\"/tag/be-yourself/page/1/\">be-yourself</a>\n",
            "<a class=\"tag\" href=\"/tag/inspirational/page/1/\">inspirational</a>\n",
            "</div>\n",
            "</div>\n",
            "<div class=\"quote\" itemscope=\"\" itemtype=\"http://schema.org/CreativeWork\">\n",
            "<span class=\"text\" itemprop=\"text\">“Try not to become a man of success. Rather become a man of value.”</span>\n",
            "<span>by <small class=\"author\" itemprop=\"author\">Albert Einstein</small>\n",
            "<a href=\"/author/Albert-Einstein\">(about)</a>\n",
            "</span>\n",
            "<div class=\"tags\">\n",
            "            Tags:\n",
            "            <meta class=\"keywords\" content=\"adulthood,success,value\" itemprop=\"keywords\"/>\n",
            "<a class=\"tag\" href=\"/tag/adulthood/page/1/\">adulthood</a>\n",
            "<a class=\"tag\" href=\"/tag/success/page/1/\">success</a>\n",
            "<a class=\"tag\" href=\"/tag/value/page/1/\">value</a>\n",
            "</div>\n",
            "</div>\n",
            "<div class=\"quote\" itemscope=\"\" itemtype=\"http://schema.org/CreativeWork\">\n",
            "<span class=\"text\" itemprop=\"text\">“It is better to be hated for what you are than to be loved for what you are not.”</span>\n",
            "<span>by <small class=\"author\" itemprop=\"author\">André Gide</small>\n",
            "<a href=\"/author/Andre-Gide\">(about)</a>\n",
            "</span>\n",
            "<div class=\"tags\">\n",
            "            Tags:\n",
            "            <meta class=\"keywords\" content=\"life,love\" itemprop=\"keywords\"/>\n",
            "<a class=\"tag\" href=\"/tag/life/page/1/\">life</a>\n",
            "<a class=\"tag\" href=\"/tag/love/page/1/\">love</a>\n",
            "</div>\n",
            "</div>\n",
            "<div class=\"quote\" itemscope=\"\" itemtype=\"http://schema.org/CreativeWork\">\n",
            "<span class=\"text\" itemprop=\"text\">“I have not failed. I've just found 10,000 ways that won't work.”</span>\n",
            "<span>by <small class=\"author\" itemprop=\"author\">Thomas A. Edison</small>\n",
            "<a href=\"/author/Thomas-A-Edison\">(about)</a>\n",
            "</span>\n",
            "<div class=\"tags\">\n",
            "            Tags:\n",
            "            <meta class=\"keywords\" content=\"edison,failure,inspirational,paraphrased\" itemprop=\"keywords\"/>\n",
            "<a class=\"tag\" href=\"/tag/edison/page/1/\">edison</a>\n",
            "<a class=\"tag\" href=\"/tag/failure/page/1/\">failure</a>\n",
            "<a class=\"tag\" href=\"/tag/inspirational/page/1/\">inspirational</a>\n",
            "<a class=\"tag\" href=\"/tag/paraphrased/page/1/\">paraphrased</a>\n",
            "</div>\n",
            "</div>\n",
            "<div class=\"quote\" itemscope=\"\" itemtype=\"http://schema.org/CreativeWork\">\n",
            "<span class=\"text\" itemprop=\"text\">“A woman is like a tea bag; you never know how strong it is until it's in hot water.”</span>\n",
            "<span>by <small class=\"author\" itemprop=\"author\">Eleanor Roosevelt</small>\n",
            "<a href=\"/author/Eleanor-Roosevelt\">(about)</a>\n",
            "</span>\n",
            "<div class=\"tags\">\n",
            "            Tags:\n",
            "            <meta class=\"keywords\" content=\"misattributed-eleanor-roosevelt\" itemprop=\"keywords\"/>\n",
            "<a class=\"tag\" href=\"/tag/misattributed-eleanor-roosevelt/page/1/\">misattributed-eleanor-roosevelt</a>\n",
            "</div>\n",
            "</div>\n",
            "<div class=\"quote\" itemscope=\"\" itemtype=\"http://schema.org/CreativeWork\">\n",
            "<span class=\"text\" itemprop=\"text\">“A day without sunshine is like, you know, night.”</span>\n",
            "<span>by <small class=\"author\" itemprop=\"author\">Steve Martin</small>\n",
            "<a href=\"/author/Steve-Martin\">(about)</a>\n",
            "</span>\n",
            "<div class=\"tags\">\n",
            "            Tags:\n",
            "            <meta class=\"keywords\" content=\"humor,obvious,simile\" itemprop=\"keywords\"/>\n",
            "<a class=\"tag\" href=\"/tag/humor/page/1/\">humor</a>\n",
            "<a class=\"tag\" href=\"/tag/obvious/page/1/\">obvious</a>\n",
            "<a class=\"tag\" href=\"/tag/simile/page/1/\">simile</a>\n",
            "</div>\n",
            "</div>\n",
            "<nav>\n",
            "<ul class=\"pager\">\n",
            "<li class=\"next\">\n",
            "<a href=\"/page/2/\">Next <span aria-hidden=\"true\">→</span></a>\n",
            "</li>\n",
            "</ul>\n",
            "</nav>\n",
            "</div>\n",
            "<div class=\"col-md-4 tags-box\">\n",
            "<h2>Top Ten tags</h2>\n",
            "<span class=\"tag-item\">\n",
            "<a class=\"tag\" href=\"/tag/love/\" style=\"font-size: 28px\">love</a>\n",
            "</span>\n",
            "<span class=\"tag-item\">\n",
            "<a class=\"tag\" href=\"/tag/inspirational/\" style=\"font-size: 26px\">inspirational</a>\n",
            "</span>\n",
            "<span class=\"tag-item\">\n",
            "<a class=\"tag\" href=\"/tag/life/\" style=\"font-size: 26px\">life</a>\n",
            "</span>\n",
            "<span class=\"tag-item\">\n",
            "<a class=\"tag\" href=\"/tag/humor/\" style=\"font-size: 24px\">humor</a>\n",
            "</span>\n",
            "<span class=\"tag-item\">\n",
            "<a class=\"tag\" href=\"/tag/books/\" style=\"font-size: 22px\">books</a>\n",
            "</span>\n",
            "<span class=\"tag-item\">\n",
            "<a class=\"tag\" href=\"/tag/reading/\" style=\"font-size: 14px\">reading</a>\n",
            "</span>\n",
            "<span class=\"tag-item\">\n",
            "<a class=\"tag\" href=\"/tag/friendship/\" style=\"font-size: 10px\">friendship</a>\n",
            "</span>\n",
            "<span class=\"tag-item\">\n",
            "<a class=\"tag\" href=\"/tag/friends/\" style=\"font-size: 8px\">friends</a>\n",
            "</span>\n",
            "<span class=\"tag-item\">\n",
            "<a class=\"tag\" href=\"/tag/truth/\" style=\"font-size: 8px\">truth</a>\n",
            "</span>\n",
            "<span class=\"tag-item\">\n",
            "<a class=\"tag\" href=\"/tag/simile/\" style=\"font-size: 6px\">simile</a>\n",
            "</span>\n",
            "</div>\n",
            "</div>\n",
            "</div>\n",
            "<footer class=\"footer\">\n",
            "<div class=\"container\">\n",
            "<p class=\"text-muted\">\n",
            "                Quotes by: <a href=\"https://www.goodreads.com/quotes\">GoodReads.com</a>\n",
            "</p>\n",
            "<p class=\"copyright\">\n",
            "                Made with <span class=\"sh-red\">❤</span> by <a href=\"https://scrapinghub.com\">Scrapinghub</a>\n",
            "</p>\n",
            "</div>\n",
            "</footer>\n",
            "</body>\n",
            "</html>\n"
          ]
        }
      ]
    },
    {
      "cell_type": "code",
      "metadata": {
        "id": "okcArDgXlGyN"
      },
      "source": [
        "# HTML의 기본 구조\n",
        "\n",
        "#  <html>\n",
        "#  <head>\n",
        "#         # 설정\n",
        "#  </head>\n",
        "#  <body>\n",
        "#         # 내용\n",
        "#  </body>\n",
        "#  </html>"
      ],
      "execution_count": 7,
      "outputs": []
    },
    {
      "cell_type": "code",
      "metadata": {
        "colab": {
          "base_uri": "https://localhost:8080/"
        },
        "id": "B4wZCuW8m0D6",
        "outputId": "2f558873-e8c5-4344-cd3c-b9509afeb3e2"
      },
      "source": [
        "soup.find_all('span')  # 명언 있는 공통되는곳 찾기"
      ],
      "execution_count": 8,
      "outputs": [
        {
          "output_type": "execute_result",
          "data": {
            "text/plain": [
              "[<span class=\"text\" itemprop=\"text\">“The world as we have created it is a process of our thinking. It cannot be changed without changing our thinking.”</span>,\n",
              " <span>by <small class=\"author\" itemprop=\"author\">Albert Einstein</small>\n",
              " <a href=\"/author/Albert-Einstein\">(about)</a>\n",
              " </span>,\n",
              " <span class=\"text\" itemprop=\"text\">“It is our choices, Harry, that show what we truly are, far more than our abilities.”</span>,\n",
              " <span>by <small class=\"author\" itemprop=\"author\">J.K. Rowling</small>\n",
              " <a href=\"/author/J-K-Rowling\">(about)</a>\n",
              " </span>,\n",
              " <span class=\"text\" itemprop=\"text\">“There are only two ways to live your life. One is as though nothing is a miracle. The other is as though everything is a miracle.”</span>,\n",
              " <span>by <small class=\"author\" itemprop=\"author\">Albert Einstein</small>\n",
              " <a href=\"/author/Albert-Einstein\">(about)</a>\n",
              " </span>,\n",
              " <span class=\"text\" itemprop=\"text\">“The person, be it gentleman or lady, who has not pleasure in a good novel, must be intolerably stupid.”</span>,\n",
              " <span>by <small class=\"author\" itemprop=\"author\">Jane Austen</small>\n",
              " <a href=\"/author/Jane-Austen\">(about)</a>\n",
              " </span>,\n",
              " <span class=\"text\" itemprop=\"text\">“Imperfection is beauty, madness is genius and it's better to be absolutely ridiculous than absolutely boring.”</span>,\n",
              " <span>by <small class=\"author\" itemprop=\"author\">Marilyn Monroe</small>\n",
              " <a href=\"/author/Marilyn-Monroe\">(about)</a>\n",
              " </span>,\n",
              " <span class=\"text\" itemprop=\"text\">“Try not to become a man of success. Rather become a man of value.”</span>,\n",
              " <span>by <small class=\"author\" itemprop=\"author\">Albert Einstein</small>\n",
              " <a href=\"/author/Albert-Einstein\">(about)</a>\n",
              " </span>,\n",
              " <span class=\"text\" itemprop=\"text\">“It is better to be hated for what you are than to be loved for what you are not.”</span>,\n",
              " <span>by <small class=\"author\" itemprop=\"author\">André Gide</small>\n",
              " <a href=\"/author/Andre-Gide\">(about)</a>\n",
              " </span>,\n",
              " <span class=\"text\" itemprop=\"text\">“I have not failed. I've just found 10,000 ways that won't work.”</span>,\n",
              " <span>by <small class=\"author\" itemprop=\"author\">Thomas A. Edison</small>\n",
              " <a href=\"/author/Thomas-A-Edison\">(about)</a>\n",
              " </span>,\n",
              " <span class=\"text\" itemprop=\"text\">“A woman is like a tea bag; you never know how strong it is until it's in hot water.”</span>,\n",
              " <span>by <small class=\"author\" itemprop=\"author\">Eleanor Roosevelt</small>\n",
              " <a href=\"/author/Eleanor-Roosevelt\">(about)</a>\n",
              " </span>,\n",
              " <span class=\"text\" itemprop=\"text\">“A day without sunshine is like, you know, night.”</span>,\n",
              " <span>by <small class=\"author\" itemprop=\"author\">Steve Martin</small>\n",
              " <a href=\"/author/Steve-Martin\">(about)</a>\n",
              " </span>,\n",
              " <span aria-hidden=\"true\">→</span>,\n",
              " <span class=\"tag-item\">\n",
              " <a class=\"tag\" href=\"/tag/love/\" style=\"font-size: 28px\">love</a>\n",
              " </span>,\n",
              " <span class=\"tag-item\">\n",
              " <a class=\"tag\" href=\"/tag/inspirational/\" style=\"font-size: 26px\">inspirational</a>\n",
              " </span>,\n",
              " <span class=\"tag-item\">\n",
              " <a class=\"tag\" href=\"/tag/life/\" style=\"font-size: 26px\">life</a>\n",
              " </span>,\n",
              " <span class=\"tag-item\">\n",
              " <a class=\"tag\" href=\"/tag/humor/\" style=\"font-size: 24px\">humor</a>\n",
              " </span>,\n",
              " <span class=\"tag-item\">\n",
              " <a class=\"tag\" href=\"/tag/books/\" style=\"font-size: 22px\">books</a>\n",
              " </span>,\n",
              " <span class=\"tag-item\">\n",
              " <a class=\"tag\" href=\"/tag/reading/\" style=\"font-size: 14px\">reading</a>\n",
              " </span>,\n",
              " <span class=\"tag-item\">\n",
              " <a class=\"tag\" href=\"/tag/friendship/\" style=\"font-size: 10px\">friendship</a>\n",
              " </span>,\n",
              " <span class=\"tag-item\">\n",
              " <a class=\"tag\" href=\"/tag/friends/\" style=\"font-size: 8px\">friends</a>\n",
              " </span>,\n",
              " <span class=\"tag-item\">\n",
              " <a class=\"tag\" href=\"/tag/truth/\" style=\"font-size: 8px\">truth</a>\n",
              " </span>,\n",
              " <span class=\"tag-item\">\n",
              " <a class=\"tag\" href=\"/tag/simile/\" style=\"font-size: 6px\">simile</a>\n",
              " </span>,\n",
              " <span class=\"sh-red\">❤</span>]"
            ]
          },
          "metadata": {},
          "execution_count": 8
        }
      ]
    },
    {
      "cell_type": "code",
      "metadata": {
        "id": "RiVJyQugm5Nl"
      },
      "source": [
        "quote = soup.find_all('span')"
      ],
      "execution_count": 9,
      "outputs": []
    },
    {
      "cell_type": "code",
      "metadata": {
        "colab": {
          "base_uri": "https://localhost:8080/"
        },
        "id": "ayM_SbY6nSfN",
        "outputId": "24bc6c81-2336-4387-ad0f-f30684fe49a7"
      },
      "source": [
        "quote[0]"
      ],
      "execution_count": 15,
      "outputs": [
        {
          "output_type": "execute_result",
          "data": {
            "text/plain": [
              "<span class=\"text\" itemprop=\"text\">“The world as we have created it is a process of our thinking. It cannot be changed without changing our thinking.”</span>"
            ]
          },
          "metadata": {},
          "execution_count": 15
        }
      ]
    },
    {
      "cell_type": "code",
      "metadata": {
        "colab": {
          "base_uri": "https://localhost:8080/",
          "height": 35
        },
        "id": "qVnWiAKNnVti",
        "outputId": "278ce68c-9b39-4eba-8749-681ce1d6c543"
      },
      "source": [
        "quote[0].text"
      ],
      "execution_count": 16,
      "outputs": [
        {
          "output_type": "execute_result",
          "data": {
            "application/vnd.google.colaboratory.intrinsic+json": {
              "type": "string"
            },
            "text/plain": [
              "'“The world as we have created it is a process of our thinking. It cannot be changed without changing our thinking.”'"
            ]
          },
          "metadata": {},
          "execution_count": 16
        }
      ]
    },
    {
      "cell_type": "code",
      "metadata": {
        "colab": {
          "base_uri": "https://localhost:8080/"
        },
        "id": "jyFYpeJ0nluJ",
        "outputId": "b2f8315a-46f8-4cfe-d161-384fd9230526"
      },
      "source": [
        "for i in quote:    # 내가 생각했던것 for i in quote <=여기에서 처리하는걸로 생각\n",
        "  print(i.text)"
      ],
      "execution_count": 25,
      "outputs": [
        {
          "output_type": "stream",
          "name": "stdout",
          "text": [
            "“The world as we have created it is a process of our thinking. It cannot be changed without changing our thinking.”\n",
            "by Albert Einstein\n",
            "(about)\n",
            "\n",
            "“It is our choices, Harry, that show what we truly are, far more than our abilities.”\n",
            "by J.K. Rowling\n",
            "(about)\n",
            "\n",
            "“There are only two ways to live your life. One is as though nothing is a miracle. The other is as though everything is a miracle.”\n",
            "by Albert Einstein\n",
            "(about)\n",
            "\n",
            "“The person, be it gentleman or lady, who has not pleasure in a good novel, must be intolerably stupid.”\n",
            "by Jane Austen\n",
            "(about)\n",
            "\n",
            "“Imperfection is beauty, madness is genius and it's better to be absolutely ridiculous than absolutely boring.”\n",
            "by Marilyn Monroe\n",
            "(about)\n",
            "\n",
            "“Try not to become a man of success. Rather become a man of value.”\n",
            "by Albert Einstein\n",
            "(about)\n",
            "\n",
            "“It is better to be hated for what you are than to be loved for what you are not.”\n",
            "by André Gide\n",
            "(about)\n",
            "\n",
            "“I have not failed. I've just found 10,000 ways that won't work.”\n",
            "by Thomas A. Edison\n",
            "(about)\n",
            "\n",
            "“A woman is like a tea bag; you never know how strong it is until it's in hot water.”\n",
            "by Eleanor Roosevelt\n",
            "(about)\n",
            "\n",
            "“A day without sunshine is like, you know, night.”\n",
            "by Steve Martin\n",
            "(about)\n",
            "\n",
            "→\n",
            "\n",
            "love\n",
            "\n",
            "\n",
            "inspirational\n",
            "\n",
            "\n",
            "life\n",
            "\n",
            "\n",
            "humor\n",
            "\n",
            "\n",
            "books\n",
            "\n",
            "\n",
            "reading\n",
            "\n",
            "\n",
            "friendship\n",
            "\n",
            "\n",
            "friends\n",
            "\n",
            "\n",
            "truth\n",
            "\n",
            "\n",
            "simile\n",
            "\n",
            "❤\n"
          ]
        }
      ]
    },
    {
      "cell_type": "code",
      "metadata": {
        "colab": {
          "base_uri": "https://localhost:8080/"
        },
        "id": "1cCISfIsn0pH",
        "outputId": "055a4d0c-8a1a-47f8-dc97-df861817a8b2"
      },
      "source": [
        "soup.find_all('div',{\"class\":\"quote\"})[0]"
      ],
      "execution_count": 26,
      "outputs": [
        {
          "output_type": "execute_result",
          "data": {
            "text/plain": [
              "<div class=\"quote\" itemscope=\"\" itemtype=\"http://schema.org/CreativeWork\">\n",
              "<span class=\"text\" itemprop=\"text\">“The world as we have created it is a process of our thinking. It cannot be changed without changing our thinking.”</span>\n",
              "<span>by <small class=\"author\" itemprop=\"author\">Albert Einstein</small>\n",
              "<a href=\"/author/Albert-Einstein\">(about)</a>\n",
              "</span>\n",
              "<div class=\"tags\">\n",
              "            Tags:\n",
              "            <meta class=\"keywords\" content=\"change,deep-thoughts,thinking,world\" itemprop=\"keywords\"/>\n",
              "<a class=\"tag\" href=\"/tag/change/page/1/\">change</a>\n",
              "<a class=\"tag\" href=\"/tag/deep-thoughts/page/1/\">deep-thoughts</a>\n",
              "<a class=\"tag\" href=\"/tag/thinking/page/1/\">thinking</a>\n",
              "<a class=\"tag\" href=\"/tag/world/page/1/\">world</a>\n",
              "</div>\n",
              "</div>"
            ]
          },
          "metadata": {},
          "execution_count": 26
        }
      ]
    },
    {
      "cell_type": "code",
      "metadata": {
        "colab": {
          "base_uri": "https://localhost:8080/",
          "height": 53
        },
        "id": "RKKsvlqPq96R",
        "outputId": "b7a148df-c2c3-4b6c-ab98-25076c5e44c9"
      },
      "source": [
        "soup.find_all('div',{\"class\":\"quote\"})[0].text"
      ],
      "execution_count": 30,
      "outputs": [
        {
          "output_type": "execute_result",
          "data": {
            "application/vnd.google.colaboratory.intrinsic+json": {
              "type": "string"
            },
            "text/plain": [
              "'\\n“The world as we have created it is a process of our thinking. It cannot be changed without changing our thinking.”\\nby Albert Einstein\\n(about)\\n\\n\\n            Tags:\\n            \\nchange\\ndeep-thoughts\\nthinking\\nworld\\n\\n'"
            ]
          },
          "metadata": {},
          "execution_count": 30
        }
      ]
    },
    {
      "cell_type": "code",
      "metadata": {
        "colab": {
          "base_uri": "https://localhost:8080/"
        },
        "id": "lX4BqQN7rFkg",
        "outputId": "374ce028-e7ea-4b83-f441-ef864393e599"
      },
      "source": [
        "print(soup.find_all('div',{\"class\":\"quote\"})[1].text)"
      ],
      "execution_count": 31,
      "outputs": [
        {
          "output_type": "stream",
          "name": "stdout",
          "text": [
            "\n",
            "“It is our choices, Harry, that show what we truly are, far more than our abilities.”\n",
            "by J.K. Rowling\n",
            "(about)\n",
            "\n",
            "\n",
            "            Tags:\n",
            "            \n",
            "abilities\n",
            "choices\n",
            "\n",
            "\n"
          ]
        }
      ]
    },
    {
      "cell_type": "code",
      "metadata": {
        "colab": {
          "base_uri": "https://localhost:8080/"
        },
        "id": "xDOJx6y6rOmC",
        "outputId": "b31731df-27c9-4022-e267-0786b76760c9"
      },
      "source": [
        "for i in soup.find_all('div',{\"class\":\"quote\"}):\n",
        "  print(i.text)"
      ],
      "execution_count": 35,
      "outputs": [
        {
          "output_type": "stream",
          "name": "stdout",
          "text": [
            "\n",
            "“The world as we have created it is a process of our thinking. It cannot be changed without changing our thinking.”\n",
            "by Albert Einstein\n",
            "(about)\n",
            "\n",
            "\n",
            "            Tags:\n",
            "            \n",
            "change\n",
            "deep-thoughts\n",
            "thinking\n",
            "world\n",
            "\n",
            "\n",
            "\n",
            "“It is our choices, Harry, that show what we truly are, far more than our abilities.”\n",
            "by J.K. Rowling\n",
            "(about)\n",
            "\n",
            "\n",
            "            Tags:\n",
            "            \n",
            "abilities\n",
            "choices\n",
            "\n",
            "\n",
            "\n",
            "“There are only two ways to live your life. One is as though nothing is a miracle. The other is as though everything is a miracle.”\n",
            "by Albert Einstein\n",
            "(about)\n",
            "\n",
            "\n",
            "            Tags:\n",
            "            \n",
            "inspirational\n",
            "life\n",
            "live\n",
            "miracle\n",
            "miracles\n",
            "\n",
            "\n",
            "\n",
            "“The person, be it gentleman or lady, who has not pleasure in a good novel, must be intolerably stupid.”\n",
            "by Jane Austen\n",
            "(about)\n",
            "\n",
            "\n",
            "            Tags:\n",
            "            \n",
            "aliteracy\n",
            "books\n",
            "classic\n",
            "humor\n",
            "\n",
            "\n",
            "\n",
            "“Imperfection is beauty, madness is genius and it's better to be absolutely ridiculous than absolutely boring.”\n",
            "by Marilyn Monroe\n",
            "(about)\n",
            "\n",
            "\n",
            "            Tags:\n",
            "            \n",
            "be-yourself\n",
            "inspirational\n",
            "\n",
            "\n",
            "\n",
            "“Try not to become a man of success. Rather become a man of value.”\n",
            "by Albert Einstein\n",
            "(about)\n",
            "\n",
            "\n",
            "            Tags:\n",
            "            \n",
            "adulthood\n",
            "success\n",
            "value\n",
            "\n",
            "\n",
            "\n",
            "“It is better to be hated for what you are than to be loved for what you are not.”\n",
            "by André Gide\n",
            "(about)\n",
            "\n",
            "\n",
            "            Tags:\n",
            "            \n",
            "life\n",
            "love\n",
            "\n",
            "\n",
            "\n",
            "“I have not failed. I've just found 10,000 ways that won't work.”\n",
            "by Thomas A. Edison\n",
            "(about)\n",
            "\n",
            "\n",
            "            Tags:\n",
            "            \n",
            "edison\n",
            "failure\n",
            "inspirational\n",
            "paraphrased\n",
            "\n",
            "\n",
            "\n",
            "“A woman is like a tea bag; you never know how strong it is until it's in hot water.”\n",
            "by Eleanor Roosevelt\n",
            "(about)\n",
            "\n",
            "\n",
            "            Tags:\n",
            "            \n",
            "misattributed-eleanor-roosevelt\n",
            "\n",
            "\n",
            "\n",
            "“A day without sunshine is like, you know, night.”\n",
            "by Steve Martin\n",
            "(about)\n",
            "\n",
            "\n",
            "            Tags:\n",
            "            \n",
            "humor\n",
            "obvious\n",
            "simile\n",
            "\n",
            "\n"
          ]
        }
      ]
    },
    {
      "cell_type": "code",
      "metadata": {
        "id": "TWrcPtZDrjG1"
      },
      "source": [
        ""
      ],
      "execution_count": 33,
      "outputs": []
    }
  ]
}