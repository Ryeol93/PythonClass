{
  "nbformat": 4,
  "nbformat_minor": 0,
  "metadata": {
    "colab": {
      "name": "선택버블삽입211123.ipynb",
      "provenance": [],
      "authorship_tag": "ABX9TyMelOZC03RSMlJsoBnpntLu",
      "include_colab_link": true
    },
    "kernelspec": {
      "name": "python3",
      "display_name": "Python 3"
    },
    "language_info": {
      "name": "python"
    }
  },
  "cells": [
    {
      "cell_type": "markdown",
      "metadata": {
        "id": "view-in-github",
        "colab_type": "text"
      },
      "source": [
        "<a href=\"https://colab.research.google.com/github/Ryeol93/PythonClass/blob/main/%EC%84%A0%ED%83%9D%EB%B2%84%EB%B8%94%EC%82%BD%EC%9E%85211123.ipynb\" target=\"_parent\"><img src=\"https://colab.research.google.com/assets/colab-badge.svg\" alt=\"Open In Colab\"/></a>"
      ]
    },
    {
      "cell_type": "code",
      "metadata": {
        "id": "y6Wq64X9RZx3"
      },
      "source": [
        "# ------------------복습-------------------------- 알고리즘&자료구조"
      ],
      "execution_count": null,
      "outputs": []
    },
    {
      "cell_type": "code",
      "metadata": {
        "id": "4u9xy-CLQVrN"
      },
      "source": [
        "# 큐 queue와 스택  stack\n",
        "\n",
        "# 큐 queue 줄서기 먼저온 사람이 먼저 백신 주사를 맞는다. FiFO\n",
        "# 1 2 3 4  in: enqueue       1 2 3 4   out: dequeue\n",
        "\n",
        "qu = [1,2,3,4]"
      ],
      "execution_count": 7,
      "outputs": []
    },
    {
      "cell_type": "code",
      "metadata": {
        "colab": {
          "base_uri": "https://localhost:8080/"
        },
        "id": "GVHtIfpfQ7xn",
        "outputId": "0635e291-c5ef-45d1-931a-bff4474b90e1"
      },
      "source": [
        "qu.pop(0)"
      ],
      "execution_count": 8,
      "outputs": [
        {
          "output_type": "execute_result",
          "data": {
            "text/plain": [
              "1"
            ]
          },
          "metadata": {},
          "execution_count": 8
        }
      ]
    },
    {
      "cell_type": "code",
      "metadata": {
        "id": "mN7ZXGScQ-YX"
      },
      "source": [
        "# 스택 stack 접시쌓기 나중에 오려진 접시가 먼저 나간다. LIFO\n",
        "# 1 2 3 4  in: push              4 3 2 1  out: pop\n",
        "\n",
        "st = [1,2,3,4]"
      ],
      "execution_count": 16,
      "outputs": []
    },
    {
      "cell_type": "code",
      "metadata": {
        "colab": {
          "base_uri": "https://localhost:8080/"
        },
        "id": "0JR_kOMHRv-Z",
        "outputId": "a652ad00-7996-41ac-b0bb-d34a9cef4c72"
      },
      "source": [
        "st.pop()    # 아무것도 지정안하며 마지막꺼부터 나간다.\n",
        "st"
      ],
      "execution_count": 20,
      "outputs": [
        {
          "output_type": "execute_result",
          "data": {
            "text/plain": [
              "[]"
            ]
          },
          "metadata": {},
          "execution_count": 20
        }
      ]
    },
    {
      "cell_type": "code",
      "metadata": {
        "colab": {
          "base_uri": "https://localhost:8080/"
        },
        "id": "Scn_pgEbR9xz",
        "outputId": "21a7d92a-4d8c-4aae-8b45-c912a30ff453"
      },
      "source": [
        "# 회문찾기 wow, madam 등\n",
        "\n",
        "\n",
        "def palin(s):\n",
        "  qu=[]\n",
        "  st=[]\n",
        "\n",
        "  for x in s:\n",
        "    qu.append(x.lower())\n",
        "    st.append(x.lower())\n",
        "\n",
        "  # print(qu)\n",
        "  # print(st)\n",
        "\n",
        "  while qu:\n",
        "    if qu.pop(0) != st.pop():\n",
        "      return False\n",
        "  return True\n",
        "\n",
        "\n",
        "palin(\"madam\")"
      ],
      "execution_count": 26,
      "outputs": [
        {
          "output_type": "execute_result",
          "data": {
            "text/plain": [
              "True"
            ]
          },
          "metadata": {},
          "execution_count": 26
        }
      ]
    },
    {
      "cell_type": "code",
      "metadata": {
        "id": "IFFlbTCRSvNp"
      },
      "source": [
        "#-------------------------------------------------------------------------------------------------------"
      ],
      "execution_count": 27,
      "outputs": []
    },
    {
      "cell_type": "code",
      "metadata": {
        "id": "u8eWturVTwY1"
      },
      "source": [
        "# 선택 정렬 (단순 선택, 선택법)\n",
        "# 데이터를 정렬하는 알고리즘 \n",
        "# \"가장 작은 데이터\"를 선택하여 맨 앞부터 순서대로 정렬한다.\n",
        "\n",
        "(3 1 4 2 5)\n",
        " \n",
        "# 1을 3과 교환(1 3 4 2 5)\n",
        "# 2를 3과 교환(1 2 4 3 5)\n",
        "# 3을 4와 교환(1 2 3 4 5)\n",
        "# => 완료\n",
        "# 1. 탐색 범위의 최솟값을 찾는 처리\n",
        "# 2. 그 최솟값과 \"교환\"한다."
      ],
      "execution_count": null,
      "outputs": []
    },
    {
      "cell_type": "code",
      "metadata": {
        "colab": {
          "base_uri": "https://localhost:8080/"
        },
        "id": "sENYJlixYT9l",
        "outputId": "0fdc5c75-7be9-4555-c291-aee897756791"
      },
      "source": [
        "# \"가장 큰 데이터\"를 선택하여 맨 뒤부터 순서대로 정렬한다.\n",
        "\n",
        "def selectionSort(arr):\n",
        "  for i in range(len(arr),0,-1):\n",
        "    max = 0\n",
        "    for j in range(0, i):   # 나머지 값들 중 가장 큰 데이터를 선택\n",
        "      if arr[j] > arr[max]:\n",
        "        max = j\n",
        "      arr[max], arr[j] = arr[j], arr[max]   # 제일 큰값과 자리 교환\n",
        "    # print(arr)\n",
        "  return arr\n",
        "\n",
        "\n",
        "arr = [3, 1, 4, 2, 5]\n",
        "print(selectionSort(arr))"
      ],
      "execution_count": 35,
      "outputs": [
        {
          "output_type": "stream",
          "name": "stdout",
          "text": [
            "[1, 2, 3, 4, 5]\n"
          ]
        }
      ]
    },
    {
      "cell_type": "code",
      "metadata": {
        "id": "xeYRTfaiclKr"
      },
      "source": [
        "# 버블 정렬 - 단순 교환법\n",
        "# 1. 오른쪽 끝부터 인접한 데이터를 오름차순으로 교환 정리.\n",
        "# 2. 반복\n",
        "# 가장 큰원소를 마지막에 보내는 방법"
      ],
      "execution_count": 36,
      "outputs": []
    },
    {
      "cell_type": "code",
      "metadata": {
        "colab": {
          "base_uri": "https://localhost:8080/"
        },
        "id": "hgvADYjkhjpw",
        "outputId": "85780e36-53d0-41d3-ce8a-1c3ab4bc1b2f"
      },
      "source": [
        "def bubbleSort(arr):\n",
        "  for i in range(len(arr)-1,0,-1):\n",
        "    for j in range(0, i):\n",
        "      if arr[j] > arr[j+1]:\n",
        "        arr[j], arr[j+1] = arr[j+1], arr[j]     # 자리 바꿈\n",
        "        print(arr)\n",
        "  return arr\n",
        "\n",
        "\n",
        "arr = [3, 1, 4, 2, 5]\n",
        "print(bubbleSort(arr))"
      ],
      "execution_count": 47,
      "outputs": [
        {
          "output_type": "stream",
          "name": "stdout",
          "text": [
            "[1, 3, 4, 2, 5]\n",
            "[1, 3, 2, 4, 5]\n",
            "[1, 2, 3, 4, 5]\n",
            "[1, 2, 3, 4, 5]\n"
          ]
        }
      ]
    },
    {
      "cell_type": "code",
      "metadata": {
        "colab": {
          "base_uri": "https://localhost:8080/"
        },
        "id": "AX0NnH-Ri-6y",
        "outputId": "96a185d1-85cd-45eb-d9f5-4f51edb57742"
      },
      "source": [
        "import random\n",
        "\n",
        "def bubbleSort(arr):\n",
        "  for i in range(len(arr)-1,0,-1):\n",
        "    for j in range(0, i):\n",
        "      if arr[j] > arr[j+1]:\n",
        "        arr[j], arr[j+1] = arr[j+1], arr[j]     # 자리 바꿈       \n",
        "  return arr\n",
        "\n",
        "arr = random.sample(range(1,50), 7)\n",
        "print(arr)\n",
        "print(bubbleSort(arr))"
      ],
      "execution_count": 52,
      "outputs": [
        {
          "output_type": "stream",
          "name": "stdout",
          "text": [
            "[23, 18, 48, 33, 32, 5, 34]\n",
            "[5, 18, 23, 32, 33, 34, 48]\n"
          ]
        }
      ]
    },
    {
      "cell_type": "code",
      "metadata": {
        "id": "8IdoZlqVjxfo"
      },
      "source": [
        "# 삽입 정렬 - 기본 삽입법 단순 삽입법\n",
        "# - 처음이나 마지막 하나를 기준으로잡아 정렬하고, 그 인접한 숫자를 비교해서 삽입한다."
      ],
      "execution_count": null,
      "outputs": []
    },
    {
      "cell_type": "code",
      "metadata": {
        "colab": {
          "base_uri": "https://localhost:8080/"
        },
        "id": "rt4YTdsNs8iH",
        "outputId": "1a87856c-60ca-45e8-cdf3-fb4935a7cd83"
      },
      "source": [
        "def insertionSort(arr):\n",
        "  for i in range(1,len(arr)):\n",
        "    while i > 0 and arr[i] < arr[i-1]:\n",
        "      arr[i], arr[i-1] = arr[i-1], arr[i]\n",
        "      i -= 1\n",
        "  return arr\n",
        "\n",
        "arr = [3, 1, 4, 2, 5]\n",
        "print(insertionSort(arr))"
      ],
      "execution_count": 53,
      "outputs": [
        {
          "output_type": "stream",
          "name": "stdout",
          "text": [
            "[1, 2, 3, 4, 5]\n"
          ]
        }
      ]
    },
    {
      "cell_type": "code",
      "metadata": {
        "id": "GCsVZY7Tuajp"
      },
      "source": [
        "# 퀵 정렬 - 기준값(맨 왼쪽)을 설정하여 그 값보다 작은 그룹과 큰 그룹으로 계속 나눈다.\n",
        "# 기준값 기준으로 작은값은 앞으로 큰 값은 뒤로 이동."
      ],
      "execution_count": null,
      "outputs": []
    },
    {
      "cell_type": "code",
      "metadata": {
        "colab": {
          "base_uri": "https://localhost:8080/"
        },
        "id": "A0U1kYbdwkED",
        "outputId": "15afa3c0-1bc2-4efc-b7b0-de955521f6ae"
      },
      "source": [
        "def quickSort(arr):\n",
        "  n = len(arr)\n",
        "  if n <= 1:\n",
        "    return arr\n",
        "\n",
        "  pivot = arr[-1]\n",
        "  g1 = []\n",
        "  g2 = []\n",
        "  for i in range(0, n-1):\n",
        "    if arr[i] < pivot:\n",
        "      g1.append(arr[i])\n",
        "    else:\n",
        "      g2.append(arr[i])\n",
        "  return quickSort(g1) + [pivot] + quickSort(g2)\n",
        "\n",
        "\n",
        "arr = [3, 1, 4, 2, 5, 6, 9, 8, 10, 7]\n",
        "print(quickSort(arr))"
      ],
      "execution_count": 54,
      "outputs": [
        {
          "output_type": "stream",
          "name": "stdout",
          "text": [
            "[1, 2, 3, 4, 5, 6, 7, 8, 9, 10]\n"
          ]
        }
      ]
    }
  ]
}